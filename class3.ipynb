{
 "cells": [
  {
   "cell_type": "markdown",
   "metadata": {
    "slideshow": {
     "slide_type": "slide"
    }
   },
   "source": [
    "# Class 3 - 23.3.20"
   ]
  },
  {
   "cell_type": "markdown",
   "metadata": {
    "slideshow": {
     "slide_type": "slide"
    }
   },
   "source": [
    "## Environments"
   ]
  },
  {
   "cell_type": "markdown",
   "metadata": {
    "slideshow": {
     "slide_type": "subslide"
    }
   },
   "source": [
    "Environments are the Pythonian solution to the \"path\" problem of MATLAB and other languages.\n",
    "\n",
    "The basic idea is that every Python project you have has an isolated environment, in which it resides. This environment contains a Python interpreter and libraries that are needed for that specific project, but aren't necessarily required by other projects. "
   ]
  },
  {
   "cell_type": "markdown",
   "metadata": {
    "slideshow": {
     "slide_type": "subslide"
    }
   },
   "source": [
    "While it might not seem _that_ important at first, when your project has multiple dependencies on other libraries, asserting compatibility between all components become tricky. \n",
    "\n",
    "Python libraries are updated regularly - look at [`numpy`](https://numpy.org/devdocs/release.html), for example, a very important library we'll discuss in a couple of classes. It has a release every few months which fixes bugs, adds new functionality and removes existing ones (after a \"deprecation process\"). Thousands of libraries depend on `numpy`, but there are so many \"relevant\" `numpy` versions that someone has to \"know\" which library uses which version of `numpy`.\n",
    "\n",
    "This point will be much clearer as the course progresses, so in the mean time just stick with me."
   ]
  },
  {
   "cell_type": "markdown",
   "metadata": {
    "slideshow": {
     "slide_type": "subslide"
    }
   },
   "source": [
    "Your different Python environments are managed by a package manager, and the best one (as of early 2020) is `conda`, by Anaconda Inc. (previously Continuum Analytics). conda has two versions, and we'll be working with the slimmer Miniconda distribution (for Python 3.7+), as explained in `PythonSetup.md`."
   ]
  },
  {
   "cell_type": "markdown",
   "metadata": {},
   "source": [
    "### Why do we need this?"
   ]
  },
  {
   "cell_type": "markdown",
   "metadata": {},
   "source": [
    "Last week we saw how Python manages namespaces with the `import` statement. Without importing anything you can't do much with Python, but luckily every Python installation comes with a large __standard library__, i.e. a collection of modules importable with the `import` statement, which can help us do many useful things in our code. We saw examples of `urllib`, `pathlib` and more. Moreover, we saw that using the `pip` tool we can install a countless number of other packages which can help us do basically anything with this language. The big difference between MATLAB and Python in this sense is that external dependencies play a very (very) important role in 99% of Python projects, whilst in MATLAB you rarely depend on files from the MATLAB File Exchange. Thus we need a better system to manage those dependencies in Python.\n",
    "\n",
    "Moreover, issues will rise when we have multple coding projects, and perhaps multiple users, on the same computer. Each project has its own list of demands (i.e. libraries it uses) and it's very important to make sure that we don't accidently \"break\" a project, i.e. install a library with the wrong version that will serve two projects. This is why we have environments, which isolate each project with its own interpreter (which is just another library) and set of dependencies."
   ]
  },
  {
   "cell_type": "markdown",
   "metadata": {
    "slideshow": {
     "slide_type": "subslide"
    }
   },
   "source": [
    "### How to create an environment?\n",
    "\n",
    "After you've installed Miniconda and added it to your path, write in the command-line (you can do this from within VSCode as well) `conda create --name my_env python=3.8`. This creates a new Python interpreter named `my_env`. The name should help us associate this environment to a specific project. To make sure we're working with this specific interpreter, we have to activate the environment:\n",
    "`conda activate my_env`. If you receive a message saying that `conda` is an unrecognized command, please re-install miniconda for \"All Users\" and also check the \"Add to PATH\" checkbox, which turns red when you do.\n",
    "\n",
    "From now on, until we write `conda deactivate`, all Python-related operations will be performed with the `my_env` interpreter in mind. If we have other environments they will not be affected by any change made as long as `my_env` is active. We can also define environment variables which will obviously be specific to this environment alone."
   ]
  },
  {
   "cell_type": "markdown",
   "metadata": {
    "slideshow": {
     "slide_type": "subslide"
    }
   },
   "source": [
    "The environment manager we use is called Miniconda, and while Python comes with an environment manager of its own (`virtualenv`), `conda` is the more popular option, especially for scientific Python. `conda` manages dependencies in a more strict fashion than `pip`, and can be used to manage the dependencies of other applications. Miniconda is a \"bare-bones\" installation, so it doesn't bloat your computer with unneeded packages, allowing for manual control of each package and environment. It also serves for a better learning experience than Anaconda."
   ]
  },
  {
   "cell_type": "markdown",
   "metadata": {
    "slideshow": {
     "slide_type": "subslide"
    }
   },
   "source": [
    "For our class you should probably create one environment for the entire semester. While I can't really verify that you're indeed working with environments, I promise you that it's a very useful habit that will save you a great amount of trouble later on, probably without you even noticing it."
   ]
  },
  {
   "cell_type": "markdown",
   "metadata": {
    "slideshow": {
     "slide_type": "subslide"
    }
   },
   "source": [
    "![Summary of environments and namespaces](extra_material/envs.png)"
   ]
  },
  {
   "cell_type": "markdown",
   "metadata": {},
   "source": [
    "## Exercise"
   ]
  },
  {
   "cell_type": "markdown",
   "metadata": {},
   "source": [
    "- Create a new environment in your computer.\n",
    "- Create a new folder that will contain a mock Python project, and make this folder a version-controlled one.\n",
    "- Associate this folder with your new environment in VSCode.\n",
    "- Add a couple of `.py` files and add to them to the list of tracked files. Make sure to use the right folder structure, as outlined above.\n",
    "- In one of these `.py` files we'll add a mock function: It should print your name, receiving no input. \n",
    "- In the other file, run that function using the `import` statement.\n",
    "- Install the package `pytz` using `pip` and make sure you're able to `import` it.\n",
    "- Assuming this project will contain raw `.tif` data, add a `.gitignore` file that disregards the raw data.\n",
    "- Add an MIT license to the repo, and a basic `README.md`.\n",
    "- Publish this project to your GitHub account."
   ]
  },
  {
   "cell_type": "raw",
   "metadata": {
    "slideshow": {
     "slide_type": "subslide"
    }
   },
   "source": [
    "Folder structure:\n",
    "\n",
    "- /home/\n",
    "    - my_proj/\n",
    "        - project_name/\n",
    "            - `__init__.py`\n",
    "            - `class1.py\n",
    "            - `class2.py`\n",
    "        - setup.py\n",
    "        - README.md\n",
    "        - config.cfg\n",
    "        - data/\n",
    "            - data.tif\n",
    "            - recordings.csv\n",
    "        - .git\n",
    "        \n",
    "    - other_proj/\n",
    "    - yet_another/"
   ]
  },
  {
   "cell_type": "markdown",
   "metadata": {
    "slideshow": {
     "slide_type": "slide"
    }
   },
   "source": [
    "# Object-Oriented Programming"
   ]
  },
  {
   "cell_type": "markdown",
   "metadata": {
    "slideshow": {
     "slide_type": "slide"
    }
   },
   "source": [
    "## Introduction"
   ]
  },
  {
   "cell_type": "markdown",
   "metadata": {
    "slideshow": {
     "slide_type": "subslide"
    }
   },
   "source": [
    "There are three main programming paradigms in use in mainstream programming languages:\n",
    "* Functional\n",
    "* Procedural\n",
    "* Object-oriented\n",
    "\n",
    "While a _functional_ paradigm is very interesting, we'll not be discussing it in this course. You can read about Haskell, OCaml, F# and other functional programming languages wherever you get your information from."
   ]
  },
  {
   "cell_type": "markdown",
   "metadata": {
    "slideshow": {
     "slide_type": "subslide"
    }
   },
   "source": [
    "The _procedural_ paradigm is the most widely used paradigm... in the academia. And it's probably the one you're most familiar with from your work in Matlab. \n",
    "\n",
    "Confusingly, this paradigm is based around _functions_ (procedures):"
   ]
  },
  {
   "cell_type": "code",
   "execution_count": 1,
   "metadata": {
    "slideshow": {
     "slide_type": "subslide"
    }
   },
   "outputs": [
    {
     "data": {
      "text/plain": [
       "[4, 10, 18]"
      ]
     },
     "execution_count": 1,
     "metadata": {},
     "output_type": "execute_result"
    }
   ],
   "source": [
    "# We could write:\n",
    "l1 = [1, 2, 3]\n",
    "l2 = [4, 5, 6]\n",
    "result = []\n",
    "for item1, item2 in zip(l1, l2):\n",
    "    result.append(item1 * item2)\n",
    "result"
   ]
  },
  {
   "cell_type": "code",
   "execution_count": 2,
   "metadata": {
    "slideshow": {
     "slide_type": "subslide"
    }
   },
   "outputs": [
    {
     "data": {
      "text/plain": [
       "[400, 1000, 1800]"
      ]
     },
     "execution_count": 2,
     "metadata": {},
     "output_type": "execute_result"
    }
   ],
   "source": [
    "# And when we have more lists to multiply we'll again write:\n",
    "l3 = [10, 20, 30]\n",
    "l4 = [40, 50, 60]\n",
    "result2 = []\n",
    "for item3, item4 in zip(l3, l4):\n",
    "    result2.append(item3 * item4)\n",
    "result2"
   ]
  },
  {
   "cell_type": "markdown",
   "metadata": {
    "slideshow": {
     "slide_type": "subslide"
    }
   },
   "source": [
    "But we're seeing a pattern here. The important DRY principle requires \"Don't Repeat Yourself\", so we define a function to replace these two implementations:"
   ]
  },
  {
   "cell_type": "code",
   "execution_count": 3,
   "metadata": {
    "slideshow": {
     "slide_type": "subslide"
    }
   },
   "outputs": [],
   "source": [
    "def list_multiplier(l1, l2):\n",
    "    \"\"\"\n",
    "    Multiply two lists element-wise.\n",
    "    Returns a list with the result\n",
    "    \"\"\"\n",
    "    result = []\n",
    "    for item1, item2 in zip(l1, l2):\n",
    "        result.append(item1 * item2)\n",
    "    \n",
    "    return result"
   ]
  },
  {
   "cell_type": "markdown",
   "metadata": {
    "slideshow": {
     "slide_type": "subslide"
    }
   },
   "source": [
    "This new _procedure_ does one thing, and one thing only. This is what's so powerful about it.\n",
    "\n",
    "Procedural programming allows us to group and order our code base into small units, called functions or **procedures**, that have a specific, defined task.\n",
    "\n",
    "It usually contains a \"wrapper\" script that defines the order of running for these functions:\n",
    "```python\n",
    "# my_wrapper_script.py\n",
    "def run_pipeline(foldername):\n",
    "    \"\"\" Main data pipeline script \"\"\"\n",
    "    data = get_user_input(foldername)\n",
    "    data_without_fieldnames = extract_fieldnames(data)\n",
    "    columnar_data = generate_columns(data_without_fieldnames, num_of_columns)\n",
    "    # ...\n",
    "    # At the end of the file it will contain:\n",
    "if __name__ == '__main__':\n",
    "    foldername = r'/path/to/folder'  # raw string\n",
    "    result = run_pipeline(foldername)\n",
    "    print(result)\n",
    "```"
   ]
  },
  {
   "cell_type": "markdown",
   "metadata": {
    "slideshow": {
     "slide_type": "subslide"
    }
   },
   "source": [
    "You should be extremely decisive and eliminate repeating code. It's perhaps the most common source for errors in scientific computing, and it may bite you any of these ways:\n",
    "\n",
    "- Encapsulation:\n",
    "```python\n",
    "# String concatenation\n",
    "first_string = 'abcd'\n",
    "second_string = 'efgh'\n",
    "concat = first_string + second_string[:-1] + 'zzz'  # you suddenly remember that you wish to exclude \n",
    "# the last character in \"second_string\" and add the 'zzz' sequence at the end.\n",
    "# Program continues...\n",
    "# ...\n",
    "third_string = 'poiu'\n",
    "fourth_string = 'qwer'\n",
    "concat2 = third_string + fourth_string + 'zzz' # you wish to achieve the same goal in this \n",
    "# concatenation - but you forgot that you excluded the last character of the second string.\n",
    "```\n",
    "    The moment you realized that you have a recurring operation on strings - you have to encapsulate it in a function - be _ruthless!_"
   ]
  },
  {
   "cell_type": "markdown",
   "metadata": {
    "slideshow": {
     "slide_type": "subslide"
    }
   },
   "source": [
    "- Parametrization\n",
    "\n",
    "```python\n",
    "def process_data(data):\n",
    "    scaled_data = data * 0.3  #  what is 0.3 exactly? Parametrize it.\n",
    "    \n",
    "def process_data(data, na_concentration=0.3):\n",
    "    \"\"\"Multiplies data by the Na concentration\"\"\"\n",
    "    scaled_data = data * na_concentration\n",
    "\n",
    "```\n",
    "\n",
    "But this is usually not enough. When calling the `process_data` parameterize the `na_concentration` variable as well:\n",
    "\n",
    "```python\n",
    "data = b * c - 1 + a\n",
    "process_data(data, 0.4)\n",
    "# Script continues...\n",
    "process_data(data2, 0.5)  # Perhaps you really did wish to call \"process_data\" with two different\n",
    "# parameters, but it's more likely that you decided that 0.5 was too high, so you changed it to 0.4\n",
    "# in the first call, but forgot that you had a second call. This parameter should appear somewhere at\n",
    "# the top of your script.\n",
    "```"
   ]
  },
  {
   "cell_type": "markdown",
   "metadata": {
    "slideshow": {
     "slide_type": "slide"
    }
   },
   "source": [
    "## Alternatives"
   ]
  },
  {
   "cell_type": "markdown",
   "metadata": {
    "slideshow": {
     "slide_type": "subslide"
    }
   },
   "source": [
    "While procedural programming works great most of the time, it can sometime be inferior to other paradigms, namely _object-oriented programming._\n",
    "\n",
    "But what do I mean by **inferior**? Obviously, all programs can be written successfully without leaving the safe confines of procedural programming.\n",
    "\n",
    "While this statement holds true, sometimes our _mental model_ of the task at hand fits an object-oriented paradigm more naturally."
   ]
  },
  {
   "cell_type": "markdown",
   "metadata": {
    "slideshow": {
     "slide_type": "slide"
    }
   },
   "source": [
    "### Classes and Objects"
   ]
  },
  {
   "cell_type": "markdown",
   "metadata": {
    "slideshow": {
     "slide_type": "subslide"
    }
   },
   "source": [
    "Classes are user-defined types. Just like `str`, `dict`, `tuple` and the rest of the standard types, Python allows us to create our own types.\n",
    "\n",
    "Objects are _instances_ of classes, they're an instance of a type we made. Actually, _all_ instances of _all_ types are objects in Python. It means that every variable and function in Python are, by themselves, an instance of a type. A function you make is an instance of the `function` type, for example. We'll get to this during later stages of the course."
   ]
  },
  {
   "cell_type": "markdown",
   "metadata": {
    "slideshow": {
     "slide_type": "subslide"
    }
   },
   "source": [
    "Classes are a type of abstraction we create with our code. A variable is the most simple type of abstraction - it's a _thing_ that is closely tied to a \"real value\" in a very simple relationship: My variable $x$ represnts the value $y$. \n",
    "\n",
    "Classes are more abstract - they don't relate to a specific value directly, but rather they try to convey an idea of an object."
   ]
  },
  {
   "cell_type": "markdown",
   "metadata": {
    "slideshow": {
     "slide_type": "slide"
    }
   },
   "source": [
    "### The Point Class"
   ]
  },
  {
   "cell_type": "markdown",
   "metadata": {
    "slideshow": {
     "slide_type": "subslide"
    }
   },
   "source": [
    "To show what we mean by \"our own type\", we'll define the `Point` type."
   ]
  },
  {
   "cell_type": "markdown",
   "metadata": {
    "slideshow": {
     "slide_type": "subslide"
    }
   },
   "source": [
    "What is a point? What is composed of?\n",
    "* In a 2D space it's a pair of values, $(x, y)$, specifying a location on a grid.\n",
    "* $x$ and $y$ are the coordinates of the point.\n",
    "* Points have special relations to other points and to the space they reside in.\n",
    "\n",
    "From these three simple observations, we expect our `Point` type to include both data about its coordinates, and functions, or **methods**, used to interact with the grid and\\or other points. \n",
    "\n",
    "An object usually bundles together data and methods to use the data."
   ]
  },
  {
   "cell_type": "markdown",
   "metadata": {
    "slideshow": {
     "slide_type": "subslide"
    }
   },
   "source": [
    "We wish to express these abstract ideas in our code. It might seem like a lot of code at the start (\"boilerplate\" code) - but it will be worth it - certainly for more complex classes."
   ]
  },
  {
   "cell_type": "code",
   "execution_count": 4,
   "metadata": {
    "slideshow": {
     "slide_type": "subslide"
    }
   },
   "outputs": [],
   "source": [
    "# Introducing the class keyword:\n",
    "class Point:\n",
    "    \"\"\"Represents a point in a 2D space\"\"\"\n",
    "\n",
    "# Notice the capital letter, i.e. CamelCase"
   ]
  },
  {
   "cell_type": "code",
   "execution_count": 5,
   "metadata": {
    "slideshow": {
     "slide_type": "subslide"
    }
   },
   "outputs": [
    {
     "data": {
      "text/plain": [
       "__main__.Point"
      ]
     },
     "execution_count": 5,
     "metadata": {},
     "output_type": "execute_result"
    }
   ],
   "source": [
    "Point\n",
    "# A new type is born in __main__"
   ]
  },
  {
   "cell_type": "code",
   "execution_count": 6,
   "metadata": {
    "slideshow": {
     "slide_type": "subslide"
    }
   },
   "outputs": [
    {
     "data": {
      "text/plain": [
       "<__main__.Point at 0x7f6c10fbea58>"
      ]
     },
     "execution_count": 6,
     "metadata": {},
     "output_type": "execute_result"
    }
   ],
   "source": [
    "# The name Point is now a factory to create new Points.\n",
    "# To make one, we have to call it like we do with a function:\n",
    "blank = Point()\n",
    "blank\n",
    "# We call this *instantiation*, as blank is an instance of Point"
   ]
  },
  {
   "cell_type": "code",
   "execution_count": 7,
   "metadata": {
    "slideshow": {
     "slide_type": "subslide"
    }
   },
   "outputs": [],
   "source": [
    "# Assign the point's data in the form of coordinates\n",
    "blank.x = 1.0\n",
    "blank.y = 0.0"
   ]
  },
  {
   "cell_type": "code",
   "execution_count": 8,
   "metadata": {
    "slideshow": {
     "slide_type": "subslide"
    }
   },
   "outputs": [
    {
     "data": {
      "text/plain": [
       "1.0"
      ]
     },
     "execution_count": 8,
     "metadata": {},
     "output_type": "execute_result"
    }
   ],
   "source": [
    "# x and y are now attributes of our class:\n",
    "blank.x"
   ]
  },
  {
   "cell_type": "code",
   "execution_count": null,
   "metadata": {},
   "outputs": [],
   "source": [
    "# import prints_\n",
    "prints.print_()"
   ]
  },
  {
   "cell_type": "markdown",
   "metadata": {
    "slideshow": {
     "slide_type": "subslide"
    }
   },
   "source": [
    "The notation `.x` means \"go the instance `blank` of the class `Point` and find the value `x` refers to.\"\n",
    "\n",
    "There's no conflict between a variable named `x` and the attribute `x`.\n",
    "\n",
    "The attribute can be used anywhere:"
   ]
  },
  {
   "cell_type": "code",
   "execution_count": 9,
   "metadata": {
    "slideshow": {
     "slide_type": "subslide"
    }
   },
   "outputs": [
    {
     "name": "stdout",
     "output_type": "stream",
     "text": [
      "2.0\n"
     ]
    }
   ],
   "source": [
    "# Simple statements\n",
    "print(1 + blank.x)"
   ]
  },
  {
   "cell_type": "code",
   "execution_count": 10,
   "metadata": {
    "slideshow": {
     "slide_type": "subslide"
    }
   },
   "outputs": [
    {
     "data": {
      "text/plain": [
       "'A case of a pointy Point at (1.0, 0.0)'"
      ]
     },
     "execution_count": 10,
     "metadata": {},
     "output_type": "execute_result"
    }
   ],
   "source": [
    "# Printouts\n",
    "f\"A case of a pointy Point at {(blank.x, blank.y)}\""
   ]
  },
  {
   "cell_type": "code",
   "execution_count": 11,
   "metadata": {
    "slideshow": {
     "slide_type": "subslide"
    }
   },
   "outputs": [],
   "source": [
    "# Arguments to functions\n",
    "def print_point(p):\n",
    "    \"\"\"Print a Point object.\n",
    "    \n",
    "    Parameters\n",
    "    ----------\n",
    "    p : Point\n",
    "        The point instance to print\n",
    "    \"\"\"\n",
    "    print(f\"{p.x, p.y}\")\n"
   ]
  },
  {
   "cell_type": "code",
   "execution_count": 12,
   "metadata": {
    "slideshow": {
     "slide_type": "subslide"
    }
   },
   "outputs": [
    {
     "name": "stdout",
     "output_type": "stream",
     "text": [
      "(1.0, 0.0)\n"
     ]
    }
   ],
   "source": [
    "print_point(blank)"
   ]
  },
  {
   "cell_type": "markdown",
   "metadata": {
    "slideshow": {
     "slide_type": "subslide"
    }
   },
   "source": [
    "### Exercise:\n",
    "Write a function `distance_between_points(p1, p2)` that takes two points and returns the Cartesian distance between them."
   ]
  },
  {
   "cell_type": "markdown",
   "metadata": {
    "slideshow": {
     "slide_type": "subslide"
    }
   },
   "source": [
    "### Exercise solution below..."
   ]
  },
  {
   "cell_type": "code",
   "execution_count": 13,
   "metadata": {
    "scrolled": true,
    "slideshow": {
     "slide_type": "subslide"
    }
   },
   "outputs": [
    {
     "data": {
      "text/plain": [
       "1.0"
      ]
     },
     "execution_count": 13,
     "metadata": {},
     "output_type": "execute_result"
    }
   ],
   "source": [
    "import math\n",
    "\n",
    "\n",
    "def distance_between_points(p1, p2):\n",
    "    \"\"\" Calculate Cartesian distance between points \"\"\"\n",
    "    return math.sqrt(\n",
    "        (p1.x - p2.x) ** 2 + \n",
    "        (p1.y - p2.y) ** 2\n",
    "    )\n",
    "\n",
    "blank2 = Point()\n",
    "blank2.x = 1.0\n",
    "blank2.y = 1.0\n",
    "dist = distance_between_points(blank, blank2)\n",
    "dist"
   ]
  },
  {
   "cell_type": "markdown",
   "metadata": {
    "slideshow": {
     "slide_type": "slide"
    }
   },
   "source": [
    "### Rectangles\n",
    "\n",
    "If we wish to model a rectangle, the first thing that should now be clear is that a rectangle is best modelled with a class (at least in Python). \n",
    "\n",
    "Deciding on the exact content of our type is sometimes not straight-forward. How would you implement a rectangle?"
   ]
  },
  {
   "cell_type": "markdown",
   "metadata": {
    "slideshow": {
     "slide_type": "subslide"
    }
   },
   "source": [
    "Modelling a rectangle can be done in the following ways:\n",
    "\n",
    "* We can decide to define it with a point and two sides.\n",
    "* We can choose the point to be a corner or its center.\n",
    "* We can also use two opposing points.\n",
    "\n",
    "Here's we'll go with the first option, with the Point being the corner."
   ]
  },
  {
   "cell_type": "code",
   "execution_count": 14,
   "metadata": {
    "slideshow": {
     "slide_type": "subslide"
    }
   },
   "outputs": [],
   "source": [
    "class Rectangle:\n",
    "    \"\"\"Rectangle model.\n",
    "    \n",
    "    Attributes\n",
    "    ----------\n",
    "    corner : Point\n",
    "        bottom left corner\n",
    "    height : float\n",
    "    width : float\n",
    "    \"\"\""
   ]
  },
  {
   "cell_type": "code",
   "execution_count": 15,
   "metadata": {
    "slideshow": {
     "slide_type": "subslide"
    }
   },
   "outputs": [
    {
     "data": {
      "text/plain": [
       "<__main__.Rectangle at 0x7f6c1077aba8>"
      ]
     },
     "execution_count": 15,
     "metadata": {},
     "output_type": "execute_result"
    }
   ],
   "source": [
    "rect = Rectangle()\n",
    "rect.width = 100.0\n",
    "rect.height = 200.0\n",
    "rect.corner = Point()\n",
    "rect.corner.x = 0.0\n",
    "rect.corner.y = 0.0\n",
    "\n",
    "rect"
   ]
  },
  {
   "cell_type": "code",
   "execution_count": 16,
   "metadata": {
    "slideshow": {
     "slide_type": "subslide"
    }
   },
   "outputs": [],
   "source": [
    "# We can return instances of classes (just like we do with instances of dictionaries...)\n",
    "def find_center(rect):\n",
    "    \"\"\" \n",
    "    Return a Point to the center of the Rectangle box\n",
    "    \"\"\"\n",
    "    p = Point()\n",
    "    p.x = rect.corner.x + rect.width / 2\n",
    "    p.y = rect.corner.y + rect.height / 2\n",
    "    return p"
   ]
  },
  {
   "cell_type": "code",
   "execution_count": 17,
   "metadata": {
    "slideshow": {
     "slide_type": "subslide"
    }
   },
   "outputs": [
    {
     "name": "stdout",
     "output_type": "stream",
     "text": [
      "(50.0, 100.0)\n"
     ]
    }
   ],
   "source": [
    "center = find_center(rect)\n",
    "print_point(center)"
   ]
  },
  {
   "cell_type": "code",
   "execution_count": 18,
   "metadata": {
    "slideshow": {
     "slide_type": "subslide"
    }
   },
   "outputs": [
    {
     "name": "stdout",
     "output_type": "stream",
     "text": [
      "0.0\n",
      "100.0\n"
     ]
    }
   ],
   "source": [
    "# Objects are mutable - we can change their attributes:\n",
    "    \n",
    "print(rect.corner.x)\n",
    "rect.corner.x += 100\n",
    "print(rect.corner.x)"
   ]
  },
  {
   "cell_type": "code",
   "execution_count": 19,
   "metadata": {
    "slideshow": {
     "slide_type": "subslide"
    }
   },
   "outputs": [],
   "source": [
    "def grow_rectangle(rect, dwidth, dheight):\n",
    "    \"\"\" Take a Rectangle instance and grow it by (dwidth, dheight) \"\"\"\n",
    "    rect.width += dwidth\n",
    "    rect.height += dheight\n",
    "    # No need to return the instance"
   ]
  },
  {
   "cell_type": "code",
   "execution_count": 20,
   "metadata": {
    "slideshow": {
     "slide_type": "subslide"
    }
   },
   "outputs": [
    {
     "data": {
      "text/plain": [
       "(100.0, 200.0)"
      ]
     },
     "execution_count": 20,
     "metadata": {},
     "output_type": "execute_result"
    }
   ],
   "source": [
    "rect.width, rect.height"
   ]
  },
  {
   "cell_type": "code",
   "execution_count": 21,
   "metadata": {
    "slideshow": {
     "slide_type": "subslide"
    }
   },
   "outputs": [
    {
     "data": {
      "text/plain": [
       "(200.0, 300.0)"
      ]
     },
     "execution_count": 21,
     "metadata": {},
     "output_type": "execute_result"
    }
   ],
   "source": [
    "grow_rectangle(rect, 100, 100)\n",
    "rect.width, rect.height"
   ]
  },
  {
   "cell_type": "markdown",
   "metadata": {
    "slideshow": {
     "slide_type": "slide"
    }
   },
   "source": [
    "### Class Methods\n",
    "\n",
    "We really haven't done object-oriented programming yet. Our objects currently contain only *data*, in the form of their attributes.\n",
    "\n",
    "To go one step closer we must learn of _methods_."
   ]
  },
  {
   "cell_type": "markdown",
   "metadata": {
    "slideshow": {
     "slide_type": "subslide"
    }
   },
   "source": [
    "Methods are functions bound to objects, describing actions they can do, or that can be done to them. For example, a real-world car can drive. So a `Car` object should have a `drive()` method attached to it. It should also have a `park()` method, and a couple of attributes, like `number_of_wheels`, `manufacturer` and `model`."
   ]
  },
  {
   "cell_type": "markdown",
   "metadata": {
    "slideshow": {
     "slide_type": "subslide"
    }
   },
   "source": [
    "As we'll see in a second, the only differentce between methods and functions is that the former are always attached to an object, and they only make sense when attached to that specific object. A `park()` method has no meaning when we try to run it on a `Rectangle()`.\n",
    "\n",
    "We've already met many methods and used them successfully. For example, we used the `.append(item)` method of a list instance. In this case it's clear why a method is always bound to a specific class - it's irrelevant to \"append\" an item to an object which is not a list.\n",
    "\n",
    "Let's add a method to our Point object:"
   ]
  },
  {
   "cell_type": "code",
   "execution_count": 63,
   "metadata": {},
   "outputs": [],
   "source": [
    "class Point:\n",
    "    \"\"\"A 2D point.\"\"\"\n",
    "    def transpose(self):\n",
    "        \"\"\"Trasnposes by flipping x and y\"\"\"\n",
    "        self.x, self.y = self.y, self.x"
   ]
  },
  {
   "cell_type": "code",
   "execution_count": 64,
   "metadata": {},
   "outputs": [
    {
     "name": "stdout",
     "output_type": "stream",
     "text": [
      "p.x: 20, p.y: 10\n"
     ]
    }
   ],
   "source": [
    "p = Point()\n",
    "p.x = 10\n",
    "p.y = 20\n",
    "\n",
    "p.transpose()\n",
    "print(f\"p.x: {p.x}, p.y: {p.y}\")"
   ]
  },
  {
   "cell_type": "markdown",
   "metadata": {},
   "source": [
    "The conceptual change here is the following: The active agents here are the *objects*, not the functions. Instead of transpose(point) we have the point \"transposing itself\": `p.transpose()`."
   ]
  },
  {
   "cell_type": "code",
   "execution_count": 24,
   "metadata": {},
   "outputs": [
    {
     "data": {
      "text/plain": [
       "<bound method Point.transpose of <__main__.Point object at 0x7f6c107966a0>>"
      ]
     },
     "execution_count": 24,
     "metadata": {},
     "output_type": "execute_result"
    }
   ],
   "source": [
    "# The method is a function:\n",
    "p.transpose\n",
    "# This returns the address to the function, but doesn't call it, just like regular functions.\n",
    "# See how it's not a regular function, but a \"bound method\"?"
   ]
  },
  {
   "cell_type": "markdown",
   "metadata": {},
   "source": [
    "In general, most functions that take an instance of some object as one of their parameters should be a candidate for becoming a method, bound to that object, since you might need it later on for other instances as well.\n",
    "\n",
    "One more technical note here is that even though the added method has `self` as its argument, when we call it we don't need to pass a parameter. `self` acts as a reference to the instance, or object, that we're currently handling. This is what makes methods \"special\" - they work with the data 'inside' the object they're a part of, and can modify this data if needed. All methods must be defined with the self parameter as their first parameter. Note that `self` isn't a special keyword, rather it's just the convention for the first argument in the method definition."
   ]
  },
  {
   "cell_type": "code",
   "execution_count": 25,
   "metadata": {},
   "outputs": [
    {
     "ename": "TypeError",
     "evalue": "transpose() takes 1 positional argument but 2 were given",
     "output_type": "error",
     "traceback": [
      "\u001b[0;31m---------------------------------------------------------------------------\u001b[0m",
      "\u001b[0;31mTypeError\u001b[0m                                 Traceback (most recent call last)",
      "\u001b[0;32m<ipython-input-25-4b107e3f2982>\u001b[0m in \u001b[0;36m<module>\u001b[0;34m\u001b[0m\n\u001b[1;32m      1\u001b[0m \u001b[0;31m# This doesn't work, look at the number of arguments:\u001b[0m\u001b[0;34m\u001b[0m\u001b[0;34m\u001b[0m\u001b[0;34m\u001b[0m\u001b[0m\n\u001b[0;32m----> 2\u001b[0;31m \u001b[0mp\u001b[0m\u001b[0;34m.\u001b[0m\u001b[0mtranspose\u001b[0m\u001b[0;34m(\u001b[0m\u001b[0mp\u001b[0m\u001b[0;34m)\u001b[0m\u001b[0;34m\u001b[0m\u001b[0;34m\u001b[0m\u001b[0m\n\u001b[0m\u001b[1;32m      3\u001b[0m \u001b[0;31m# Two argumnets were given? We gave only one. The second was the self argument that is implicitly passed.\u001b[0m\u001b[0;34m\u001b[0m\u001b[0;34m\u001b[0m\u001b[0;34m\u001b[0m\u001b[0m\n",
      "\u001b[0;31mTypeError\u001b[0m: transpose() takes 1 positional argument but 2 were given"
     ]
    }
   ],
   "source": [
    "# This doesn't work, look at the number of arguments:\n",
    "p.transpose(p)\n",
    "# Two argumnets were given? We gave only one. The second was the self argument that is implicitly passed."
   ]
  },
  {
   "cell_type": "markdown",
   "metadata": {},
   "source": [
    "One thing is still missing though - each time we create the point we have a three step process:\n",
    "1. Create the instance: `p = Point()`\n",
    "2. Add the `x` attribute: `p.x = 2`\n",
    "3. Add the `y` attribute: `p.y = 3`\n",
    "\n",
    "First, it would be nice if we could make this process shorter. Second, the Point instance is really unusable unless it has both attributes `(x, y)` set, so we want to make sure that we don't have a Point without both `x` and `y`. This is accomplished by the `__init__` method. "
   ]
  },
  {
   "cell_type": "markdown",
   "metadata": {
    "slideshow": {
     "slide_type": "slide"
    }
   },
   "source": [
    "### The `__init__` method\n",
    "\n",
    "Classes have several special methods attached to them. While most are out the course's scope, a special method that __does__ deserve a closer look is the `__init__()` method. It has two underscores before and after its name, making it a \"dunder\" method, short for \"double underscore\".\n",
    "\n",
    "The `__init__()` methods allows us to define our class' attributes inside the class definition:"
   ]
  },
  {
   "cell_type": "code",
   "execution_count": 66,
   "metadata": {},
   "outputs": [],
   "source": [
    "class Point:\n",
    "    \"\"\"A 2D point.\"\"\"\n",
    "    def __init__(self, x, y):\n",
    "        self.x = x\n",
    "        self.y = y\n",
    "\n",
    "    def transpose(self):\n",
    "        \"\"\"Trasnposes by flipping x and y\"\"\"\n",
    "        self.x, self.y = self.y, self.x"
   ]
  },
  {
   "cell_type": "markdown",
   "metadata": {},
   "source": [
    "Now, in order to create a Point instance, we have to pass in the two arguments that the `__init__` method requires:"
   ]
  },
  {
   "cell_type": "code",
   "execution_count": 27,
   "metadata": {},
   "outputs": [
    {
     "name": "stdout",
     "output_type": "stream",
     "text": [
      "p.x: 10, p.y: 20\n",
      "p.x: 20, p.y: 10\n"
     ]
    }
   ],
   "source": [
    "p = Point(10, 20)\n",
    "print(f\"p.x: {p.x}, p.y: {p.y}\")\n",
    "p.transpose()\n",
    "print(f\"p.x: {p.x}, p.y: {p.y}\")"
   ]
  },
  {
   "cell_type": "markdown",
   "metadata": {},
   "source": [
    "As we said, this is better because we enforce our Point user to initialize all attributes, which eases the use of the other methods the Point has. Most chances are that the first method you'll write for a newly defined class is the `__init__()` method. \n",
    "Let's look at a broader example using the Rectange we defined earlier and the two other functions we also had."
   ]
  },
  {
   "cell_type": "code",
   "execution_count": 28,
   "metadata": {},
   "outputs": [],
   "source": [
    "class Rectangle:\n",
    "    \"\"\"Rectangle model.\n",
    "    \n",
    "    Attributes\n",
    "    ----------\n",
    "    corner : Point\n",
    "        Bottom left corner\n",
    "    height, width : float\n",
    "    \"\"\"\n",
    "    def __init__(self, corner, height=10, width=10):\n",
    "        self.corner = corner\n",
    "        self.height = height\n",
    "        self.width = width\n",
    "        \n",
    "    def find_center(self):\n",
    "        \"\"\"Return a Point to the center of the Rectangle box.\"\"\"\n",
    "        x = self.corner.x + self.width / 2\n",
    "        y = self.corner.y + self.height / 2\n",
    "        return Point(x, y)\n",
    "\n",
    "    def grow(self, dwidth, dheight):\n",
    "        \"\"\"Change this instance's size by (dwidth, dheight).\n",
    "        \n",
    "        Parameters\n",
    "        ----------\n",
    "        dwidth, dheight : float\n",
    "            Change the first and second axes by +dwidth\\dheight\n",
    "        \"\"\"\n",
    "        self.width += dwidth\n",
    "        self.height += dheight"
   ]
  },
  {
   "cell_type": "markdown",
   "metadata": {},
   "source": [
    "In the example above:\n",
    "1. The Class name is CamelCase.\n",
    "2. The docstring of the entire class describes its general purpose.\n",
    "3. The `__init__` method takes in three arguments, but two of them are optional.\n",
    "4. We added the two functions we defined earlier to the class as methods, since they only operate on rectangles in the first place."
   ]
  },
  {
   "cell_type": "code",
   "execution_count": 29,
   "metadata": {
    "slideshow": {
     "slide_type": "subslide"
    }
   },
   "outputs": [
    {
     "name": "stdout",
     "output_type": "stream",
     "text": [
      "rect.width: 10, rect.height: 10\n"
     ]
    }
   ],
   "source": [
    "rect = Rectangle(p)\n",
    "print(f\"rect.width: {rect.width}, rect.height: {rect.height}\")"
   ]
  },
  {
   "cell_type": "code",
   "execution_count": 30,
   "metadata": {},
   "outputs": [],
   "source": [
    "# Methods can use other methods\n",
    "class Rectangle:\n",
    "    \"\"\"Rectangle model.\n",
    "    \n",
    "    Attributes\n",
    "    ----------\n",
    "    corner : Point\n",
    "        Bottom left corner\n",
    "    height, width : float\n",
    "    \"\"\"\n",
    "    def __init__(self, corner, height=10, width=10):\n",
    "        self.corner = corner\n",
    "        self.height = height\n",
    "        self.width = width\n",
    "        \n",
    "    def find_center(self):\n",
    "        \"\"\"Return a Point to the center of the Rectangle box.\"\"\"\n",
    "        x = self.corner.x + self.width / 2\n",
    "        y = self.corner.y + self.height / 2\n",
    "        return Point(x, y)\n",
    "\n",
    "    def grow(self, dwidth, dheight):\n",
    "        \"\"\"Change this instance's size by (dwidth, dheight).\n",
    "        \n",
    "        Parameters\n",
    "        ----------\n",
    "        dwidth, dheight : float\n",
    "            Change the first and second axes by +dwidth\\dheight\n",
    "        \"\"\"\n",
    "        self.width += dwidth\n",
    "        self.height += dheight \n",
    "    \n",
    "    def move_to_origin(self):\n",
    "        \"\"\"Moves the center of the rectangle to (0, 0)\"\"\"\n",
    "        center = self.find_center()\n",
    "        if center.x == 0 and center.y == 0:\n",
    "            return\n",
    "        self.corner = Point(-self.width/2, -self.height/2)"
   ]
  },
  {
   "cell_type": "code",
   "execution_count": 31,
   "metadata": {
    "scrolled": true,
    "slideshow": {
     "slide_type": "subslide"
    }
   },
   "outputs": [
    {
     "name": "stdout",
     "output_type": "stream",
     "text": [
      "The center of the rectange is (12.0, 12.0)\n",
      "The center of the moved rectange is (0.0, 0.0)\n"
     ]
    }
   ],
   "source": [
    "corner = Point(10, 10)\n",
    "rect = Rectangle(corner, 4, 4)\n",
    "center = rect.find_center()\n",
    "print(f\"The center of the rectange is {(center.x, center.y)}\")\n",
    "rect.move_to_origin()\n",
    "new_center = rect.find_center()\n",
    "print(f\"The center of the moved rectange is {(new_center.x, new_center.y)}\")"
   ]
  },
  {
   "cell_type": "markdown",
   "metadata": {},
   "source": [
    "Again, you should see how the object modifies itself and acts upon itself using other methods. We're not modifying the internal parts of the instance ourselves - we let the methods do it for us."
   ]
  },
  {
   "cell_type": "markdown",
   "metadata": {
    "slideshow": {
     "slide_type": "subslide"
    }
   },
   "source": [
    "#### `__str__`\n",
    "Another interesting _dunder_ method is the `__str__()` method, which defines what the class will print when invoked using the `print(class_instance)` command. For example:"
   ]
  },
  {
   "cell_type": "code",
   "execution_count": 37,
   "metadata": {
    "slideshow": {
     "slide_type": "subslide"
    }
   },
   "outputs": [],
   "source": [
    "class ShoppingList:\n",
    "    def __init__(self, vegetables=10, fruits=5, bread=1):\n",
    "        self.vegetables = vegetables\n",
    "        self.fruits = fruits\n",
    "        self.bread = bread\n",
    "    \n",
    "    def __str__(self):\n",
    "        str_to_print = f\"\"\"Shopping List:\n",
    "            Vegetabels: {self.vegetables}\n",
    "            Fruits: {self.fruits}\n",
    "            Bread: {self.bread}\n",
    "            Total items: {self.vegetables + self.fruits + self.bread}\"\"\"\n",
    "        return str_to_print"
   ]
  },
  {
   "cell_type": "code",
   "execution_count": 39,
   "metadata": {},
   "outputs": [
    {
     "name": "stdout",
     "output_type": "stream",
     "text": [
      "Shopping List:\n",
      "            Vegetabels: 10\n",
      "            Fruits: 5\n",
      "            Bread: 1\n",
      "            Total items: 16\n"
     ]
    }
   ],
   "source": [
    "slist = ShoppingList()\n",
    "print(slist)"
   ]
  },
  {
   "cell_type": "code",
   "execution_count": 40,
   "metadata": {
    "slideshow": {
     "slide_type": "subslide"
    }
   },
   "outputs": [],
   "source": [
    "shop_list = ShoppingList(5, 1, 3)\n",
    "\n",
    "# We can change the order of parameters when using keyword arguments\n",
    "shop_list2 = ShoppingList(fruits=5, bread=1, vegetables=3)"
   ]
  },
  {
   "cell_type": "code",
   "execution_count": 45,
   "metadata": {
    "slideshow": {
     "slide_type": "subslide"
    }
   },
   "outputs": [
    {
     "name": "stdout",
     "output_type": "stream",
     "text": [
      "Fruits: 1\n",
      "Shopping list #2:\n",
      "Shopping List:\n",
      "            Vegetabels: 3\n",
      "            Fruits: 5\n",
      "            Bread: 1\n",
      "            Total items: 9\n"
     ]
    }
   ],
   "source": [
    "print(f\"Fruits: {shop_list.fruits}\")\n",
    "print(f\"Shopping list #2:\\n{shop_list2}\")"
   ]
  },
  {
   "cell_type": "markdown",
   "metadata": {
    "slideshow": {
     "slide_type": "subslide"
    }
   },
   "source": [
    "The `__str__()` method is very useful for debugging purposes."
   ]
  },
  {
   "cell_type": "markdown",
   "metadata": {
    "slideshow": {
     "slide_type": "slide"
    }
   },
   "source": [
    "### Operator Overloading"
   ]
  },
  {
   "cell_type": "markdown",
   "metadata": {
    "slideshow": {
     "slide_type": "subslide"
    }
   },
   "source": [
    "One of the most interesting properties of Python is operator overloading (although it's not unique to Python). It means that we can force our self-declared types (i.e. classes) to behave in a certain way with the standard mathematical operations.\n",
    "\n",
    "We'll use the ShoppingList class as an example. Say we want to __add__ two different shopping lists. Naively, we might just try the following:"
   ]
  },
  {
   "cell_type": "code",
   "execution_count": 46,
   "metadata": {
    "slideshow": {
     "slide_type": "subslide"
    }
   },
   "outputs": [
    {
     "ename": "TypeError",
     "evalue": "unsupported operand type(s) for +: 'ShoppingList' and 'ShoppingList'",
     "output_type": "error",
     "traceback": [
      "\u001b[0;31m---------------------------------------------------------------------------\u001b[0m",
      "\u001b[0;31mTypeError\u001b[0m                                 Traceback (most recent call last)",
      "\u001b[0;32m<ipython-input-46-1c0ae3e8adc3>\u001b[0m in \u001b[0;36m<module>\u001b[0;34m\u001b[0m\n\u001b[1;32m      1\u001b[0m \u001b[0mshoplist1\u001b[0m \u001b[0;34m=\u001b[0m \u001b[0mShoppingList\u001b[0m\u001b[0;34m(\u001b[0m\u001b[0;34m)\u001b[0m\u001b[0;34m\u001b[0m\u001b[0;34m\u001b[0m\u001b[0m\n\u001b[1;32m      2\u001b[0m \u001b[0mshoplist2\u001b[0m \u001b[0;34m=\u001b[0m \u001b[0mShoppingList\u001b[0m\u001b[0;34m(\u001b[0m\u001b[0;34m)\u001b[0m\u001b[0;34m\u001b[0m\u001b[0;34m\u001b[0m\u001b[0m\n\u001b[0;32m----> 3\u001b[0;31m \u001b[0mprint\u001b[0m\u001b[0;34m(\u001b[0m\u001b[0mshoplist1\u001b[0m \u001b[0;34m+\u001b[0m \u001b[0mshoplist2\u001b[0m\u001b[0;34m)\u001b[0m\u001b[0;34m\u001b[0m\u001b[0;34m\u001b[0m\u001b[0m\n\u001b[0m",
      "\u001b[0;31mTypeError\u001b[0m: unsupported operand type(s) for +: 'ShoppingList' and 'ShoppingList'"
     ]
    }
   ],
   "source": [
    "shoplist1 = ShoppingList()\n",
    "shoplist2 = ShoppingList()\n",
    "print(shoplist1 + shoplist2)"
   ]
  },
  {
   "cell_type": "markdown",
   "metadata": {
    "slideshow": {
     "slide_type": "subslide"
    }
   },
   "source": [
    "To us, this expression seems completely fine - adding two shopping lists should just concatenate the items one after the other. The fact that it's a very readable line of code makes it a _good_ line of code, since you have to remember that we write code for humans to read, not computers.\n",
    "\n",
    "Unfortunately, Python can't add two shopping lists because it was never taught how to do that. Luckily, we can override the behavior of the addition operator, by defining the `__add__()` method in the class definition:"
   ]
  },
  {
   "cell_type": "code",
   "execution_count": 47,
   "metadata": {
    "slideshow": {
     "slide_type": "subslide"
    }
   },
   "outputs": [],
   "source": [
    "class ShoppingList:\n",
    "    ''' Shopping list class\n",
    "    Attributes:\n",
    "    vegeteb\n",
    "    \n",
    "    '''\n",
    "    def __init__(self, vegetables=10, fruits=5, bread=1):\n",
    "        self.vegetables = vegetables\n",
    "        self.fruits = fruits\n",
    "        self.bread = bread\n",
    "    \n",
    "    def __str__(self):\n",
    "        str_to_print = f\"\"\"Shopping List:\n",
    "        Vegetabels: {self.vegetables}\n",
    "        Fruits: {self.fruits}\n",
    "        Bread: {self.bread}\n",
    "        Total items: {self.vegetables + self.fruits + self.bread}\"\"\"\n",
    "        return str_to_print\n",
    "    \n",
    "    # ----- New method below: ------\n",
    "    def __add__(self, other):\n",
    "        \"\"\"Add together two shopping lists.\n",
    "        \n",
    "        Notes\n",
    "        -----\n",
    "        This method returns a new shopping list, meaning it doesn't modify\n",
    "        any of the existing lists it was given.\n",
    "        \"\"\"\n",
    "        new_list = ShoppingList(\n",
    "            vegetables=self.vegetables + other.vegetables,\n",
    "            fruits=self.fruits + other.fruits,\n",
    "            bread=self.bread + other.bread\n",
    "        )\n",
    "        return new_list"
   ]
  },
  {
   "cell_type": "code",
   "execution_count": 48,
   "metadata": {
    "scrolled": true,
    "slideshow": {
     "slide_type": "subslide"
    }
   },
   "outputs": [
    {
     "name": "stdout",
     "output_type": "stream",
     "text": [
      "Shopping List:\n",
      "        Vegetabels: 20\n",
      "        Fruits: 10\n",
      "        Bread: 2\n",
      "        Total items: 32\n"
     ]
    }
   ],
   "source": [
    "# Now we can safely add two ShoppingList() instances:\n",
    "shoplist1 = ShoppingList()\n",
    "shoplist2 = ShoppingList()\n",
    "added_shoplist = shoplist1 + shoplist2\n",
    "print(added_shoplist)"
   ]
  },
  {
   "cell_type": "code",
   "execution_count": 49,
   "metadata": {
    "slideshow": {
     "slide_type": "subslide"
    }
   },
   "outputs": [
    {
     "name": "stdout",
     "output_type": "stream",
     "text": [
      "Shopping List:\n",
      "        Vegetabels: 10\n",
      "        Fruits: 5\n",
      "        Bread: 1\n",
      "        Total items: 16\n"
     ]
    }
   ],
   "source": [
    "print(shoplist1)"
   ]
  },
  {
   "cell_type": "code",
   "execution_count": 50,
   "metadata": {
    "slideshow": {
     "slide_type": "subslide"
    }
   },
   "outputs": [
    {
     "ename": "AttributeError",
     "evalue": "'int' object has no attribute 'vegetables'",
     "output_type": "error",
     "traceback": [
      "\u001b[0;31m---------------------------------------------------------------------------\u001b[0m",
      "\u001b[0;31mAttributeError\u001b[0m                            Traceback (most recent call last)",
      "\u001b[0;32m<ipython-input-50-2c924382622f>\u001b[0m in \u001b[0;36m<module>\u001b[0;34m\u001b[0m\n\u001b[1;32m      1\u001b[0m \u001b[0;31m# Addition of something other than a ShoppingList will result in an AttributeError:\u001b[0m\u001b[0;34m\u001b[0m\u001b[0;34m\u001b[0m\u001b[0;34m\u001b[0m\u001b[0m\n\u001b[0;32m----> 2\u001b[0;31m \u001b[0mshoplist1\u001b[0m \u001b[0;34m+\u001b[0m \u001b[0;36m1\u001b[0m\u001b[0;34m\u001b[0m\u001b[0;34m\u001b[0m\u001b[0m\n\u001b[0m\u001b[1;32m      3\u001b[0m \u001b[0;34m\u001b[0m\u001b[0m\n\u001b[1;32m      4\u001b[0m \u001b[0;31m# We could write an \"if\" in the __add__() method that checks if 'other' is an integer,\u001b[0m\u001b[0;34m\u001b[0m\u001b[0;34m\u001b[0m\u001b[0;34m\u001b[0m\u001b[0m\n\u001b[1;32m      5\u001b[0m \u001b[0;31m# and if so just adds that integer number to all items in the shopping list\u001b[0m\u001b[0;34m\u001b[0m\u001b[0;34m\u001b[0m\u001b[0;34m\u001b[0m\u001b[0m\n",
      "\u001b[0;32m<ipython-input-47-f3f7a0ec9668>\u001b[0m in \u001b[0;36m__add__\u001b[0;34m(self, other)\u001b[0m\n\u001b[1;32m     28\u001b[0m         \"\"\"\n\u001b[1;32m     29\u001b[0m         new_list = ShoppingList(\n\u001b[0;32m---> 30\u001b[0;31m             \u001b[0mvegetables\u001b[0m\u001b[0;34m=\u001b[0m\u001b[0mself\u001b[0m\u001b[0;34m.\u001b[0m\u001b[0mvegetables\u001b[0m \u001b[0;34m+\u001b[0m \u001b[0mother\u001b[0m\u001b[0;34m.\u001b[0m\u001b[0mvegetables\u001b[0m\u001b[0;34m,\u001b[0m\u001b[0;34m\u001b[0m\u001b[0;34m\u001b[0m\u001b[0m\n\u001b[0m\u001b[1;32m     31\u001b[0m             \u001b[0mfruits\u001b[0m\u001b[0;34m=\u001b[0m\u001b[0mself\u001b[0m\u001b[0;34m.\u001b[0m\u001b[0mfruits\u001b[0m \u001b[0;34m+\u001b[0m \u001b[0mother\u001b[0m\u001b[0;34m.\u001b[0m\u001b[0mfruits\u001b[0m\u001b[0;34m,\u001b[0m\u001b[0;34m\u001b[0m\u001b[0;34m\u001b[0m\u001b[0m\n\u001b[1;32m     32\u001b[0m             \u001b[0mbread\u001b[0m\u001b[0;34m=\u001b[0m\u001b[0mself\u001b[0m\u001b[0;34m.\u001b[0m\u001b[0mbread\u001b[0m \u001b[0;34m+\u001b[0m \u001b[0mother\u001b[0m\u001b[0;34m.\u001b[0m\u001b[0mbread\u001b[0m\u001b[0;34m\u001b[0m\u001b[0;34m\u001b[0m\u001b[0m\n",
      "\u001b[0;31mAttributeError\u001b[0m: 'int' object has no attribute 'vegetables'"
     ]
    }
   ],
   "source": [
    "# Addition of something other than a ShoppingList will result in an AttributeError:\n",
    "shoplist1 + 1\n",
    "\n",
    "# We could write an \"if\" in the __add__() method that checks if 'other' is an integer, \n",
    "# and if so just adds that integer number to all items in the shopping list"
   ]
  },
  {
   "cell_type": "markdown",
   "metadata": {
    "slideshow": {
     "slide_type": "subslide"
    }
   },
   "source": [
    "We can overload all operators to make our classes behave as one would intuitively expect them to. A quick google query will tell you the name of the dunder method you're after when you wish to overload some operator.\n",
    "\n",
    "We usually don't write new dunder methods. That is, Python pre-defines the relevant dunder methods for us, and we just re-use their names. Generally you shouldn't implement some random method you thought of as a dunder method."
   ]
  },
  {
   "cell_type": "markdown",
   "metadata": {
    "slideshow": {
     "slide_type": "subslide"
    }
   },
   "source": [
    "### Summary\n",
    "\n",
    "OOP is the most important programming paradigm nowadays, and you should be very familiar with it. Some problems fit this paradigm hand in glove, and the best example is GUI programming. However, it's not the \"ultimate\" answer to any design difficulty you have. Some problems _can_ be solved by using intricate objects and multiple inheritance, but in reality they're much simpler when solved using procedural design. Remember to write code that humans, and especially your future self, can read and understand.\n",
    "\n",
    "With that being said, throughout the semester I prefer you write _too many_ objects over writing _too few,_ as it indicates you feel comfortable in the object-oriented world."
   ]
  },
  {
   "cell_type": "markdown",
   "metadata": {
    "slideshow": {
     "slide_type": "slide"
    }
   },
   "source": [
    "## Two Exercises\n",
    "\n",
    "### The Fraction Class"
   ]
  },
  {
   "cell_type": "markdown",
   "metadata": {
    "slideshow": {
     "slide_type": "subslide"
    }
   },
   "source": [
    "Create a `Fraction()` class with only the basic attributes. Assume that the inputs are numbers.\n",
    "\n",
    "a. Override some operators so that you can add a Fraction to an integer (`Fraction() + int` only, not `int + Fraction()`).\n",
    "\n",
    "b. Override the operator that allows you to check which fraction is larger between the two."
   ]
  },
  {
   "cell_type": "markdown",
   "metadata": {
    "slideshow": {
     "slide_type": "subslide"
    }
   },
   "source": [
    "### The Path Class"
   ]
  },
  {
   "cell_type": "markdown",
   "metadata": {
    "slideshow": {
     "slide_type": "subslide"
    }
   },
   "source": [
    "Create a `Path()` class, symboling a directory in a mock filesystem. The class should at least one attribute, named `files`, containing the list of files in the folder, and three methods, not including the mandatory `__init__` method:\n",
    "- `Path.get_parent()` - returns the name of the parent folder of our Path (not the entire path). The \n",
    "- `Path.get_size()` - returns a number corresponding to the size in KB of the folder, which should depend on the number of files in the folder.\n",
    "- `Path.set_path(Path())` - Change the current directory to the one given (as a Path() instance).\n",
    "`\n",
    "\n",
    "After you've created it, overload the division operator `/` (`__truediv__`) to concatenate a Path class instance with a string pointing to a folder, i.e.:\n",
    "```python\n",
    ">> print(Path(\"/home\") / \"/usr\")\n",
    "Path(\"/home/usr\")\n",
    "```\n",
    "_Note:_ The filesystem is a _mock_ one, meaning that it shouldn't correspond to the actual file system, but to path-like strings you invent, like the ones above.\n",
    "\n",
    "You can also assume that the string doesn't contain you own path, i.e. you don't have to deal with cases such as:\n",
    "`Path(\"/home\") / \"/home/usr\"`"
   ]
  },
  {
   "cell_type": "markdown",
   "metadata": {
    "slideshow": {
     "slide_type": "subslide"
    }
   },
   "source": [
    "### Exercises solutions follow..."
   ]
  },
  {
   "cell_type": "code",
   "execution_count": 51,
   "metadata": {
    "slideshow": {
     "slide_type": "subslide"
    }
   },
   "outputs": [],
   "source": [
    "# Exercise 1\n",
    "class Fraction:\n",
    "    \"\"\" \n",
    "    Models a fraction with a numerator and a denominator, assuming the inputs are numbers\n",
    "    Attributes:\n",
    "    num - int, float - numerator\n",
    "    denom - int, float - denomerator\n",
    "    value - num/denom\n",
    "    Methods:\n",
    "    Can be added and compared to other fractions\n",
    "    \"\"\"\n",
    "    def __init__(self, num, denom):\n",
    "        self.num = num\n",
    "        self.denom = denom\n",
    "        if self.denom == 0:\n",
    "            self.value = None\n",
    "        else:\n",
    "            self.value = num / denom\n",
    "    \n",
    "    def __str__(self):\n",
    "        return f\"{self.num}/{self.denom} (= {self.value})\"\n",
    "    \n",
    "    def __add__(self, other):\n",
    "        \"\"\" Left-add a Fraction to an integer \"\"\"\n",
    "        if isinstance(other, int):\n",
    "            num_of_int = self.denom * other\n",
    "            return Fraction(self.num + num_of_int, self.denom)\n",
    "    \n",
    "    def __gt__(self, other):\n",
    "        \"\"\" Left > between two fractions \"\"\"\n",
    "        if isinstance(other, Fraction):\n",
    "            return self.value > other.value\n",
    "        elif isinstance(other, int):\n",
    "            return self.value > other "
   ]
  },
  {
   "cell_type": "code",
   "execution_count": 52,
   "metadata": {
    "slideshow": {
     "slide_type": "subslide"
    }
   },
   "outputs": [
    {
     "name": "stdout",
     "output_type": "stream",
     "text": [
      "f1 = 1/2 (= 0.5)\n",
      "f2 = 3/4 (= 0.75)\n",
      "Is f1 bigger?\n",
      "False\n",
      "Is f1 smaller?\n",
      "True\n",
      "Are they equal?\n",
      "False\n",
      "Are they not equal?\n",
      "True\n"
     ]
    }
   ],
   "source": [
    "f1 = Fraction(1, 2)\n",
    "f2 = Fraction(3, 4)\n",
    "\n",
    "print(f\"f1 = {f1}\")\n",
    "print(f\"f2 = {f2}\")\n",
    "\n",
    "print(\"Is f1 bigger?\")\n",
    "print(f1 > f2)\n",
    "\n",
    "print(\"Is f1 smaller?\")\n",
    "print(f1 < f2)\n",
    "\n",
    "print(\"Are they equal?\")\n",
    "print(f1 == f2)\n",
    "\n",
    "print(\"Are they not equal?\")\n",
    "print(f1 != f2)\n",
    "# Damn, Python's smart."
   ]
  },
  {
   "cell_type": "code",
   "execution_count": 53,
   "metadata": {
    "slideshow": {
     "slide_type": "subslide"
    }
   },
   "outputs": [],
   "source": [
    "# Exercise 2 - the Path class\n",
    "import os\n",
    "\n",
    "\n",
    "class Path:\n",
    "    \"\"\" \n",
    "    File system path to folders, allows the use of \"/\" to move between folders\n",
    "    Attributes:\n",
    "    path - str\n",
    "    files - list of str\n",
    "    \n",
    "    Methods:\n",
    "    get_parent - returns parent folder as Path\n",
    "    get_size - returns size of current folder in KB\n",
    "    set_path(new_path) - changes current path to the .path attribute of new_path\n",
    "    \"\"\"\n",
    "    def __init__(self, path, files=['a.txt', 'b.py', 'c.c']):\n",
    "        self.path = path\n",
    "        self.files = files\n",
    "    \n",
    "    def get_parent(self):\n",
    "        \"\"\" Returns the name of the parent folder \"\"\"\n",
    "        separated_path = self.path.split(os.sep)\n",
    "        if len(separated_path) >= 2:\n",
    "            return separated_path[-2]\n",
    "        else:\n",
    "            return None\n",
    "    \n",
    "    def get_size(self):\n",
    "        \"\"\" Returns the size in KB of the folder's content \"\"\"\n",
    "        return 10 * len(self.files)\n",
    "    \n",
    "    def set_path(self, new_path):\n",
    "        \"\"\" Changes current path to new_path \"\"\"\n",
    "        if not isinstance(new_path, Path):\n",
    "            print(\"Input variable must be a Path-like instance\")\n",
    "            return\n",
    "        self.path = new_path.path\n",
    "        self.files = new_path.files\n",
    "    \n",
    "    def __truediv__(self, other):\n",
    "        \"\"\" \n",
    "        Traverse the filesystem using the / sign, assuming that \n",
    "        other isn't an absolute path.\n",
    "        Returns a new instance\n",
    "        \"\"\"\n",
    "        assert type(other) in (str, int)\n",
    "        new_path = self.path + os.sep + str(other)\n",
    "        new_files = []\n",
    "        return Path(path=new_path, files=new_files)"
   ]
  },
  {
   "cell_type": "code",
   "execution_count": 54,
   "metadata": {
    "slideshow": {
     "slide_type": "subslide"
    }
   },
   "outputs": [
    {
     "name": "stdout",
     "output_type": "stream",
     "text": [
      "/home/usr/python/python37 ['ab.R', 'l.cpp', 'py.py']\n",
      "Size: 30, parent: python\n"
     ]
    }
   ],
   "source": [
    "p = Path(r'/home/usr/python/python37', files=['ab.R', 'l.cpp', 'py.py'])\n",
    "print(p.path, p.files)\n",
    "\n",
    "size = p.get_size()\n",
    "parent = p.get_parent()\n",
    "print(f\"Size: {size}, parent: {parent}\")"
   ]
  },
  {
   "cell_type": "code",
   "execution_count": 55,
   "metadata": {
    "slideshow": {
     "slide_type": "subslide"
    }
   },
   "outputs": [
    {
     "name": "stdout",
     "output_type": "stream",
     "text": [
      "/usr/local/bin ['a.txt', 'b.py', 'c.c']\n"
     ]
    }
   ],
   "source": [
    "p.set_path(Path(r'/usr/local/bin'))\n",
    "print(p.path, p.files)"
   ]
  },
  {
   "cell_type": "code",
   "execution_count": 56,
   "metadata": {
    "slideshow": {
     "slide_type": "subslide"
    }
   },
   "outputs": [
    {
     "name": "stdout",
     "output_type": "stream",
     "text": [
      "/usr/local/bin/data\n"
     ]
    }
   ],
   "source": [
    "new_path = p / 'data'\n",
    "print(new_path.path)"
   ]
  }
 ],
 "metadata": {
  "anaconda-cloud": {},
  "celltoolbar": "Slideshow",
  "kernelspec": {
   "display_name": "Python 3",
   "language": "python",
   "name": "python3"
  },
  "language_info": {
   "codemirror_mode": {
    "name": "ipython",
    "version": 3
   },
   "file_extension": ".py",
   "mimetype": "text/x-python",
   "name": "python",
   "nbconvert_exporter": "python",
   "pygments_lexer": "ipython3",
   "version": "3.7.3"
  }
 },
 "nbformat": 4,
 "nbformat_minor": 2
}
