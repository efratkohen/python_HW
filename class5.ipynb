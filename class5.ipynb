{
 "cells": [
  {
   "cell_type": "markdown",
   "metadata": {},
   "source": [
    "# Class 5 - 1.4.19"
   ]
  },
  {
   "cell_type": "markdown",
   "metadata": {
    "slideshow": {
     "slide_type": "slide"
    }
   },
   "source": [
    "# Scientific Python"
   ]
  },
  {
   "cell_type": "markdown",
   "metadata": {
    "slideshow": {
     "slide_type": "slide"
    }
   },
   "source": [
    "## Introduction"
   ]
  },
  {
   "cell_type": "markdown",
   "metadata": {
    "slideshow": {
     "slide_type": "subslide"
    }
   },
   "source": [
    "![The scientific Python stack](extra_material/scientific_python.jpg)"
   ]
  },
  {
   "cell_type": "markdown",
   "metadata": {
    "slideshow": {
     "slide_type": "subslide"
    }
   },
   "source": [
    "The onion-like scientific stack of Python is composed of the most important packages used in the Python scientific world. Here's a quick overview of the most important names in the stack, before we dive in deep:\n",
    "1. IPython: A REPL, much like the command window in MATLAB. Lets you write Python on the fly, debug and check the performance of your code, and much (much!) more.\n",
    "2. NumPy: Standard implementation of multi-dimensional arrays in Python. \n",
    "3. Jupyter: Notebooks aimed at data exploration. Write code and see its output immediately, with useful Markdown annotations to accompany it - just like this notebook.\n",
    "4. SciPy: Implements advanced algorithms widely used in scientific programming. Advanced linear algebra, data structures, curve fitting, signal processing, modeling and more.\n",
    "5. Matplotlib: Visualizations of your data in Python with MATLAB-like interface.\n",
    "6. Pandas: Tabular data manipulation.\n",
    "\n",
    "This scientific stack is one of the main reasons that empowered Python in recent years to the prominent spot it has today."
   ]
  },
  {
   "cell_type": "markdown",
   "metadata": {
    "slideshow": {
     "slide_type": "subslide"
    }
   },
   "source": [
    "Throughout the course you will become familiar with all of the mentioned tools, and more."
   ]
  },
  {
   "cell_type": "markdown",
   "metadata": {
    "slideshow": {
     "slide_type": "slide"
    }
   },
   "source": [
    "## NumPy"
   ]
  },
  {
   "cell_type": "markdown",
   "metadata": {
    "slideshow": {
     "slide_type": "subslide"
    }
   },
   "source": [
    "NumPy is the de-facto implementation of arrays in Python. They're very similar to MATLAB arrays (and to other implementations in other programming languages), which will hopefully make us feel comfortable with this module."
   ]
  },
  {
   "cell_type": "markdown",
   "metadata": {
    "slideshow": {
     "slide_type": "subslide"
    }
   },
   "source": [
    ">[This](https://docs.scipy.org/doc/numpy/user/numpy-for-matlab-users.html) page contains a thorough comparison of similar functions in MATLAB and numpy. If you want to use MATLAB's `find` function and can't seem to find a counterpart in numpy (it's `nonzero`, BTW), or if you wish to see how do different arithmetic functions compare between the two, that page can be of great assistance."
   ]
  },
  {
   "cell_type": "markdown",
   "metadata": {},
   "source": [
    "Although `numpy` is used extensively in the Python eco-system, it doesn't come with the Python standard library, which means you have to install it first. Activate your environment and run `conda install numpy`. Only then you can follow the rest of the class."
   ]
  },
  {
   "cell_type": "code",
   "execution_count": 1,
   "metadata": {
    "slideshow": {
     "slide_type": "subslide"
    }
   },
   "outputs": [],
   "source": [
    "import numpy as np  # standard alias for numpy"
   ]
  },
  {
   "cell_type": "code",
   "execution_count": 2,
   "metadata": {
    "slideshow": {
     "slide_type": "subslide"
    }
   },
   "outputs": [
    {
     "data": {
      "text/plain": [
       "array([1, 2, 3])"
      ]
     },
     "execution_count": 2,
     "metadata": {},
     "output_type": "execute_result"
    }
   ],
   "source": [
    "l = [1, 2, 3]\n",
    "arr = np.array(l)  # obviously equal to np.array([1, 2, 3])\n",
    "arr"
   ]
  },
  {
   "cell_type": "code",
   "execution_count": 3,
   "metadata": {
    "slideshow": {
     "slide_type": "subslide"
    }
   },
   "outputs": [
    {
     "name": "stdout",
     "output_type": "stream",
     "text": [
      "Shape:  (3,)\n",
      "NDim:  1\n",
      "Shape:  ()\n",
      "NDim:  0\n"
     ]
    }
   ],
   "source": [
    "# Check the dimensionality of the array:\n",
    "print(\"Shape: \", arr.shape)\n",
    "print(\"NDim: \", arr.ndim)\n",
    "# But...\n",
    "a = np.array(1)  # wrong instatiation! Don't use it, instead write np.array([1])\n",
    "print(\"Shape: \", a.shape)\n",
    "print(\"NDim: \", a.ndim)\n"
   ]
  },
  {
   "cell_type": "markdown",
   "metadata": {
    "slideshow": {
     "slide_type": "subslide"
    }
   },
   "source": [
    "We've instantiated an array by calling the `np.array()` function on an iterable. This will create a one-dimensional numpy array, or _vector_. This is the first _important_ difference from MATLAB. In MATLAB, all arrays are by default n-dimensional. If you write:\n",
    "```matlab\n",
    "a = 1\n",
    "a(:, :, :, :, :, 1) = 2\n",
    "```\n",
    "then you just received a 6-dimensional array. Numpy doesn't allow that. The dimensions of an array are generally the dimensions it had when it was created. You can always use `reshape`, like MATLAB, to define the exact number of dimensions you wish to have. You can also use `np.newaxis` to add an axis, as we'll see below. But these options still keep the number of elements in the array the same, they just re-order them.\n",
    "\n",
    "This means that a 2x4 array can be reshaped into a 4x2 array, or a 2x2x2 one, but not 3x3x3.\n",
    "\n",
    "The second difference is the idea of vectors."
   ]
  },
  {
   "cell_type": "code",
   "execution_count": 4,
   "metadata": {
    "slideshow": {
     "slide_type": "subslide"
    }
   },
   "outputs": [
    {
     "name": "stdout",
     "output_type": "stream",
     "text": [
      "The number of dimensions is 1.\n",
      "The shape is (3,).\n"
     ]
    }
   ],
   "source": [
    "print(f\"The number of dimensions is {arr.ndim}.\")\n",
    "print(f\"The shape is {arr.shape}.\")"
   ]
  },
  {
   "cell_type": "markdown",
   "metadata": {
    "slideshow": {
     "slide_type": "subslide"
    }
   },
   "source": [
    "As you see, `ndim` returns the number of dimensions. The `shape` is returned as a tuple, the length of which is the number of dimensions, while the values represent the number of elements in each dimensions. `shape` is very similar to the `size()` function of MATLAB."
   ]
  },
  {
   "cell_type": "markdown",
   "metadata": {
    "slideshow": {
     "slide_type": "subslide"
    }
   },
   "source": [
    "Creating arrays with more than one dimension might look odd at a first glance:"
   ]
  },
  {
   "cell_type": "code",
   "execution_count": 5,
   "metadata": {
    "slideshow": {
     "slide_type": "subslide"
    }
   },
   "outputs": [
    {
     "data": {
      "text/plain": [
       "array([[1, 2, 3],\n",
       "       [4, 5, 6]])"
      ]
     },
     "execution_count": 5,
     "metadata": {},
     "output_type": "execute_result"
    }
   ],
   "source": [
    "arr_2d = np.array([[1, 2, 3], [4, 5, 6]])\n",
    "arr_2d"
   ]
  },
  {
   "cell_type": "code",
   "execution_count": 6,
   "metadata": {
    "slideshow": {
     "slide_type": "subslide"
    }
   },
   "outputs": [
    {
     "name": "stdout",
     "output_type": "stream",
     "text": [
      "The number of dimensions is 2.\n",
      "The shape is (2, 3).\n",
      "The len of the array is 2 - which corresponds to the shape of the 0th dimension.\n"
     ]
    }
   ],
   "source": [
    "print(f\"The number of dimensions is {arr_2d.ndim}.\")\n",
    "print(f\"The shape is {arr_2d.shape}.\")\n",
    "print(f\"The len of the array is {len(arr_2d)} - which corresponds to the shape of the 0th dimension.\")"
   ]
  },
  {
   "cell_type": "markdown",
   "metadata": {
    "slideshow": {
     "slide_type": "subslide"
    }
   },
   "source": [
    "As we see, each list was considered a single \"row\" (dimension number 0) in the final array, very much like MATLAB, although the syntax can be confusing at first. Here's another slightly confusing example:"
   ]
  },
  {
   "cell_type": "code",
   "execution_count": 7,
   "metadata": {
    "scrolled": true,
    "slideshow": {
     "slide_type": "subslide"
    }
   },
   "outputs": [
    {
     "data": {
      "text/plain": [
       "array([[[1],\n",
       "        [2]],\n",
       "\n",
       "       [[3],\n",
       "        [4]]])"
      ]
     },
     "execution_count": 7,
     "metadata": {},
     "output_type": "execute_result"
    }
   ],
   "source": [
    "c = np.array([[[1], [2]], [[3], [4]]])\n",
    "c"
   ]
  },
  {
   "cell_type": "code",
   "execution_count": 8,
   "metadata": {
    "slideshow": {
     "slide_type": "subslide"
    }
   },
   "outputs": [
    {
     "data": {
      "text/plain": [
       "(2, 2, 1)"
      ]
     },
     "execution_count": 8,
     "metadata": {},
     "output_type": "execute_result"
    }
   ],
   "source": [
    "c.shape"
   ]
  },
  {
   "cell_type": "markdown",
   "metadata": {
    "slideshow": {
     "slide_type": "slide"
    }
   },
   "source": [
    "### Getting help"
   ]
  },
  {
   "cell_type": "markdown",
   "metadata": {
    "slideshow": {
     "slide_type": "subslide"
    }
   },
   "source": [
    "Numpy has a ton of features, and to get around it we can use `lookfor` and the `?` sign, besides the official reference on the internet:"
   ]
  },
  {
   "cell_type": "code",
   "execution_count": 10,
   "metadata": {
    "slideshow": {
     "slide_type": "subslide"
    }
   },
   "outputs": [
    {
     "name": "stdout",
     "output_type": "stream",
     "text": [
      "Search results for 'create array'\n",
      "---------------------------------\n",
      "numpy.array\n",
      "    Create an array.\n",
      "numpy.memmap\n",
      "    Create a memory-map to an array stored in a *binary* file on disk.\n",
      "numpy.diagflat\n",
      "    Create a two-dimensional array with the flattened input as a diagonal.\n",
      "numpy.fromiter\n",
      "    Create a new 1-dimensional array from an iterable object.\n",
      "numpy.partition\n",
      "    Return a partitioned copy of an array.\n",
      "numpy.ctypeslib.as_array\n",
      "    Create a numpy array from a ctypes array or POINTER.\n",
      "numpy.ma.diagflat\n",
      "    Create a two-dimensional array with the flattened input as a diagonal.\n",
      "numpy.ma.make_mask\n",
      "    Create a boolean mask from an array.\n",
      "numpy.ctypeslib.as_ctypes\n",
      "    Create and return a ctypes object from a numpy array.  Actually\n",
      "numpy.asarray\n",
      "    Convert the input to an array.\n",
      "numpy.ndarray\n",
      "    ndarray(shape, dtype=float, buffer=None, offset=0,\n",
      "numpy.recarray\n",
      "    Construct an ndarray that allows field access using attributes.\n",
      "numpy.chararray\n",
      "    chararray(shape, itemsize=1, unicode=False, buffer=None, offset=0,\n",
      "numpy.pad\n",
      "    Pads an array.\n",
      "numpy.asanyarray\n",
      "    Convert the input to an ndarray, but pass ndarray subclasses through.\n",
      "numpy.copy\n",
      "    Return an array copy of the given object.\n",
      "numpy.diag\n",
      "    Extract a diagonal or construct a diagonal array.\n",
      "numpy.load\n",
      "    Load arrays or pickled objects from ``.npy``, ``.npz`` or pickled files.\n",
      "numpy.sort\n",
      "    Return a sorted copy of an array.\n",
      "numpy.array_equiv\n",
      "    Returns True if input arrays are shape consistent and all elements equal.\n",
      "numpy.dtype\n",
      "    Create a data type object.\n",
      "numpy.ufunc\n",
      "    Functions that operate element by element on whole arrays.\n",
      "numpy.choose\n",
      "    Construct an array from an index array and a set of arrays to choose from.\n",
      "numpy.nditer\n",
      "    Efficient multi-dimensional iterator object to iterate over arrays.\n",
      "numpy.swapaxes\n",
      "    Interchange two axes of an array.\n",
      "numpy.full_like\n",
      "    Return a full array with the same shape and type as a given array.\n",
      "numpy.ones_like\n",
      "    Return an array of ones with the same shape and type as a given array.\n",
      "numpy.empty_like\n",
      "    Return a new array with the same shape and type as a given array.\n",
      "numpy.zeros_like\n",
      "    Return an array of zeros with the same shape and type as a given array.\n",
      "numpy.asarray_chkfinite\n",
      "    Convert the input to an array, checking for NaNs or Infs.\n",
      "numpy.diag_indices\n",
      "    Return the indices to access the main diagonal of an array.\n",
      "numpy.nested_iters\n",
      "    Create nditers for use in nested loops\n",
      "numpy.chararray.tolist\n",
      "    a.tolist()\n",
      "numpy.put_along_axis\n",
      "    Put values into the destination array by matching 1d index and data slices.\n",
      "numpy.ma.choose\n",
      "    Use an index array to construct a new array from a set of choices.\n",
      "numpy.savez_compressed\n",
      "    Save several arrays into a single file in compressed ``.npz`` format.\n",
      "numpy.matlib.rand\n",
      "    Return a matrix of random values with given shape.\n",
      "numpy.datetime_as_string\n",
      "    Convert an array of datetimes into an array of strings.\n",
      "numpy.ma.empty_like\n",
      "    Return a new array with the same shape and type as a given array.\n",
      "numpy.ma.make_mask_none\n",
      "    Return a boolean mask of the given shape, filled with False.\n",
      "numpy.around\n",
      "    Evenly round to the given number of decimals.\n",
      "numpy.source\n",
      "    Print or write to a file the source code for a NumPy object.\n",
      "numpy.diagonal\n",
      "    Return specified diagonals.\n",
      "numpy.nan_to_num\n",
      "    Replace NaN with zero and infinity with large finite numbers.\n",
      "numpy.einsum_path\n",
      "    Evaluates the lowest cost contraction order for an einsum expression by\n",
      "numpy.histogram2d\n",
      "    Compute the bi-dimensional histogram of two data samples.\n",
      "numpy.busdaycalendar\n",
      "    A business day calendar object that efficiently stores information"
     ]
    }
   ],
   "source": [
    "np.lookfor(\"Create array\")"
   ]
  },
  {
   "cell_type": "code",
   "execution_count": 64,
   "metadata": {
    "slideshow": {
     "slide_type": "subslide"
    }
   },
   "outputs": [],
   "source": [
    "np.con*?"
   ]
  },
  {
   "cell_type": "markdown",
   "metadata": {
    "slideshow": {
     "slide_type": "slide"
    }
   },
   "source": [
    "### Creating arrays"
   ]
  },
  {
   "cell_type": "code",
   "execution_count": 12,
   "metadata": {
    "slideshow": {
     "slide_type": "subslide"
    }
   },
   "outputs": [
    {
     "data": {
      "text/plain": [
       "array([0, 1, 2, 3, 4, 5, 6, 7, 8, 9])"
      ]
     },
     "execution_count": 12,
     "metadata": {},
     "output_type": "execute_result"
    }
   ],
   "source": [
    "np.arange(10)  # similar to MATLAB's 0:9 (and to Python's range())"
   ]
  },
  {
   "cell_type": "code",
   "execution_count": 13,
   "metadata": {
    "slideshow": {
     "slide_type": "subslide"
    }
   },
   "outputs": [
    {
     "data": {
      "text/plain": [
       "array([1, 4, 7])"
      ]
     },
     "execution_count": 13,
     "metadata": {},
     "output_type": "execute_result"
    }
   ],
   "source": [
    "np.arange(start=1, stop=8, step=3)  # MATLAB's 1:3:8"
   ]
  },
  {
   "cell_type": "code",
   "execution_count": 14,
   "metadata": {
    "slideshow": {
     "slide_type": "subslide"
    }
   },
   "outputs": [
    {
     "data": {
      "text/plain": [
       "array([[0., 0., 0.],\n",
       "       [0., 0., 0.]])"
      ]
     },
     "execution_count": 14,
     "metadata": {},
     "output_type": "execute_result"
    }
   ],
   "source": [
    "np.zeros((2, 3))  # notice that the shape is a tuple"
   ]
  },
  {
   "cell_type": "code",
   "execution_count": 15,
   "metadata": {
    "slideshow": {
     "slide_type": "subslide"
    }
   },
   "outputs": [
    {
     "data": {
      "text/plain": [
       "array([[0, 0, 0],\n",
       "       [0, 0, 0]])"
      ]
     },
     "execution_count": 15,
     "metadata": {},
     "output_type": "execute_result"
    }
   ],
   "source": [
    "np.zeros_like(arr_2d)"
   ]
  },
  {
   "cell_type": "code",
   "execution_count": 16,
   "metadata": {
    "slideshow": {
     "slide_type": "subslide"
    }
   },
   "outputs": [
    {
     "data": {
      "text/plain": [
       "array([[1, 1, 1, 1]])"
      ]
     },
     "execution_count": 16,
     "metadata": {},
     "output_type": "execute_result"
    }
   ],
   "source": [
    "np.ones((1, 4), dtype='int64')  # 2-d array with the dtype argument"
   ]
  },
  {
   "cell_type": "code",
   "execution_count": 17,
   "metadata": {
    "slideshow": {
     "slide_type": "subslide"
    }
   },
   "outputs": [
    {
     "data": {
      "text/plain": [
       "array([[7, 7],\n",
       "       [7, 7],\n",
       "       [7, 7],\n",
       "       [7, 7]])"
      ]
     },
     "execution_count": 17,
     "metadata": {},
     "output_type": "execute_result"
    }
   ],
   "source": [
    "np.full((4, 2), 7)"
   ]
  },
  {
   "cell_type": "code",
   "execution_count": 18,
   "metadata": {
    "slideshow": {
     "slide_type": "subslide"
    }
   },
   "outputs": [
    {
     "data": {
      "text/plain": [
       "array([ 0.,  5., 10.])"
      ]
     },
     "execution_count": 18,
     "metadata": {},
     "output_type": "execute_result"
    }
   ],
   "source": [
    "np.linspace(0, 10, 3)  # start, stop, number of points (endpoint as a keyword argument)"
   ]
  },
  {
   "cell_type": "code",
   "execution_count": 19,
   "metadata": {
    "slideshow": {
     "slide_type": "subslide"
    }
   },
   "outputs": [
    {
     "data": {
      "text/plain": [
       "array([0.       , 3.3333333, 6.6666665], dtype=float32)"
      ]
     },
     "execution_count": 19,
     "metadata": {},
     "output_type": "execute_result"
    }
   ],
   "source": [
    "np.linspace(0, 10, 3, endpoint=False, dtype=np.float32)"
   ]
  },
  {
   "cell_type": "code",
   "execution_count": 20,
   "metadata": {
    "slideshow": {
     "slide_type": "subslide"
    }
   },
   "outputs": [
    {
     "data": {
      "text/plain": [
       "array([[1, 0, 0],\n",
       "       [0, 1, 0],\n",
       "       [0, 0, 1]], dtype=uint8)"
      ]
     },
     "execution_count": 20,
     "metadata": {},
     "output_type": "execute_result"
    }
   ],
   "source": [
    "np.eye(3, dtype='uint8')"
   ]
  },
  {
   "cell_type": "code",
   "execution_count": 21,
   "metadata": {
    "slideshow": {
     "slide_type": "subslide"
    }
   },
   "outputs": [
    {
     "data": {
      "text/plain": [
       "array([[19,  0],\n",
       "       [ 0, 20]])"
      ]
     },
     "execution_count": 21,
     "metadata": {},
     "output_type": "execute_result"
    }
   ],
   "source": [
    "np.diag([19, 20])"
   ]
  },
  {
   "cell_type": "code",
   "execution_count": 22,
   "metadata": {
    "slideshow": {
     "slide_type": "subslide"
    }
   },
   "outputs": [
    {
     "data": {
      "text/plain": [
       "array([ True, False, False])"
      ]
     },
     "execution_count": 22,
     "metadata": {},
     "output_type": "execute_result"
    }
   ],
   "source": [
    "# Some more interesting features\n",
    "np.array([True, False, False])"
   ]
  },
  {
   "cell_type": "code",
   "execution_count": 23,
   "metadata": {
    "slideshow": {
     "slide_type": "subslide"
    }
   },
   "outputs": [
    {
     "data": {
      "text/plain": [
       "dtype('complex128')"
      ]
     },
     "execution_count": 23,
     "metadata": {},
     "output_type": "execute_result"
    }
   ],
   "source": [
    "np.array([1+2j]).dtype"
   ]
  },
  {
   "cell_type": "code",
   "execution_count": 24,
   "metadata": {
    "slideshow": {
     "slide_type": "subslide"
    }
   },
   "outputs": [
    {
     "data": {
      "text/plain": [
       "array(['a', 'bc', 'd', 'e'], dtype='<U2')"
      ]
     },
     "execution_count": 24,
     "metadata": {},
     "output_type": "execute_result"
    }
   ],
   "source": [
    "np.array(['a', 'bc', 'd', 'e'])  # <U2 are strings containing maximum 2 unicode letters\n",
    "# No such thing as a cell array, arrays can contain strings."
   ]
  },
  {
   "cell_type": "code",
   "execution_count": 25,
   "metadata": {
    "slideshow": {
     "slide_type": "subslide"
    }
   },
   "outputs": [
    {
     "data": {
      "text/plain": [
       "array([1, 'b', True, {'b': 1}], dtype=object)"
      ]
     },
     "execution_count": 25,
     "metadata": {},
     "output_type": "execute_result"
    }
   ],
   "source": [
    "# Arrays can be heterogeneous, although usually this is discouraged. \n",
    "# To make an hetetogeneous array, you have to specify its data type as \"object\", or \"np.object\":\n",
    "np.array([1, 'b', True, {'b': 1}], dtype=object)"
   ]
  },
  {
   "cell_type": "markdown",
   "metadata": {
    "slideshow": {
     "slide_type": "subslide"
    }
   },
   "source": [
    "The last few examples showed us that numpy arrays are a superset of MATLAB's matrices, as they also contain the cell array functionality within them.\n",
    "\n",
    "When multiplying numpy arrays, multiplication is done cell-by-cell (elementwise), rather than by the rules of linear algebra. \n",
    "\n",
    "You can still multiply vectors and matrices using one of two options:\n",
    "* The `@` operator (preferred): `arr1 @ arr2`\n",
    "* `arr1.dot(arr2)`\n",
    "\n",
    "Just remember that the default behavior is different than MATLAB's.\n",
    "\n",
    "Also, numpy does contain a matrix-like array - `np.matrix('1 2; 3 4')` - which behaves like a linear algebra 2D matrix, but its use is discouraged."
   ]
  },
  {
   "cell_type": "markdown",
   "metadata": {},
   "source": [
    "### More on datatypes"
   ]
  },
  {
   "cell_type": "markdown",
   "metadata": {},
   "source": [
    "While `numpy` doesn't require you to actively think of the data type of each of your arrays, it's a useful habit to have. The existing data types in `numpy` are:"
   ]
  },
  {
   "cell_type": "code",
   "execution_count": 26,
   "metadata": {},
   "outputs": [
    {
     "data": {
      "text/plain": [
       "{'int': [numpy.int8, numpy.int16, numpy.int32, numpy.int64],\n",
       " 'uint': [numpy.uint8, numpy.uint16, numpy.uint32, numpy.uint64],\n",
       " 'float': [numpy.float16, numpy.float32, numpy.float64, numpy.float128],\n",
       " 'complex': [numpy.complex64, numpy.complex128, numpy.complex256],\n",
       " 'others': [bool, object, bytes, str, numpy.void]}"
      ]
     },
     "execution_count": 26,
     "metadata": {},
     "output_type": "execute_result"
    }
   ],
   "source": [
    "np.sctypes"
   ]
  },
  {
   "cell_type": "markdown",
   "metadata": {},
   "source": [
    "Many array creation and handling methods have a `dtype` keyword argument, that allow you to specify the required output's data type easily.\n",
    "\n",
    "Python will issue RuntimeWarnings whenever an \"unsafe\" conversion of data type will occur, for example from `np.float64` to `np.float32`."
   ]
  },
  {
   "cell_type": "markdown",
   "metadata": {
    "slideshow": {
     "slide_type": "slide"
    }
   },
   "source": [
    "### Difference between numpy arrays and lists"
   ]
  },
  {
   "cell_type": "markdown",
   "metadata": {
    "slideshow": {
     "slide_type": "subslide"
    }
   },
   "source": [
    "You might have asked yourselves by this point what's the difference between lists and numpy arrays. In other words, if Python already has an array-like data structure, why does it need another one?"
   ]
  },
  {
   "cell_type": "markdown",
   "metadata": {
    "slideshow": {
     "slide_type": "subslide"
    }
   },
   "source": [
    "Lists are truly amazing, but their flexibility comes at a cost. You won't notice it when you're writing some short script, but when you start working with real datasets you notice that their performance is _lacking_.\n",
    "\n",
    "Naive iteration over lists is good enough when the lists contain up to a few thousands of elements, but somewhere after this invisible threshold you will start to notice the runtimes of your app."
   ]
  },
  {
   "cell_type": "markdown",
   "metadata": {
    "slideshow": {
     "slide_type": "subslide"
    }
   },
   "source": [
    "#### Why are lists slower?\n",
    "\n",
    "Lists are slower due to their implementation. Because a list has to be heterogeneous, a list is actually an object containing references to other objects, which are the elements of the data contained in the list. This nesting can go on even deeper, since elements of lists can be other lists, or other complex data types.\n",
    "\n",
    "Iterating over such a complicated objects contains a lot of \"overhead\", i.e. time the interpreter tries to figure out what is it actually facing - is this current value an integer? A float? A dictionary of tuples?"
   ]
  },
  {
   "cell_type": "markdown",
   "metadata": {
    "slideshow": {
     "slide_type": "subslide"
    }
   },
   "source": [
    "![Numpy arrays versus lists](extra_material/array_vs_list.png)"
   ]
  },
  {
   "cell_type": "markdown",
   "metadata": {
    "slideshow": {
     "slide_type": "subslide"
    }
   },
   "source": [
    "This is where numpy arrays come into the picture. They require the contained data to be homogeneous (disregarding the \"object\" datatype), leading to a simpler structure of the underlying implementation: A numpy array is an object with a pointer to a contiguous block of data in the memory.\n",
    "\n",
    "Numpy forces the elements in its array to be homogeneous, by means of \"upcasting\":"
   ]
  },
  {
   "cell_type": "code",
   "execution_count": 27,
   "metadata": {
    "slideshow": {
     "slide_type": "subslide"
    }
   },
   "outputs": [
    {
     "data": {
      "text/plain": [
       "array([1.  , 2.  , 3.14, 4.  ])"
      ]
     },
     "execution_count": 27,
     "metadata": {},
     "output_type": "execute_result"
    }
   ],
   "source": [
    "arr = np.array([1, 2, 3.14, 4])\n",
    "arr  # upcasted to float, not \"object\", since it's much slower"
   ]
  },
  {
   "cell_type": "markdown",
   "metadata": {
    "slideshow": {
     "slide_type": "subslide"
    }
   },
   "source": [
    "This homogeneity and contiguity allows numpy to use \"vectorized\" functions, which are simply functions that can iterate in C code (and SIMD) over the array, as opposed to regular functions which have to use the Python iteration rules."
   ]
  },
  {
   "cell_type": "markdown",
   "metadata": {
    "slideshow": {
     "slide_type": "subslide"
    }
   },
   "source": [
    "This means that while in essence the following two pieces of code are identical, the performance gain is due to the loop being done in C rather than in Python (this is the case in MATLAB as well):"
   ]
  },
  {
   "cell_type": "code",
   "execution_count": 28,
   "metadata": {
    "slideshow": {
     "slide_type": "subslide"
    }
   },
   "outputs": [
    {
     "name": "stdout",
     "output_type": "stream",
     "text": [
      "79.7 ms ± 3.08 ms per loop (mean ± std. dev. of 7 runs, 10 loops each)\n"
     ]
    }
   ],
   "source": [
    "%%timeit\n",
    "python_array = list(range(1000000))\n",
    "for item in python_array:\n",
    "    item += 1"
   ]
  },
  {
   "cell_type": "code",
   "execution_count": 29,
   "metadata": {
    "slideshow": {
     "slide_type": "subslide"
    }
   },
   "outputs": [
    {
     "name": "stdout",
     "output_type": "stream",
     "text": [
      "2.51 ms ± 270 µs per loop (mean ± std. dev. of 7 runs, 100 loops each)\n"
     ]
    }
   ],
   "source": [
    "%%timeit \n",
    "numpy_array = np.arange(1000000)\n",
    "numpy_array += 1  # inside, a C loop is adding 1 to each item.\n",
    "\n",
    "# Two orders of magnitude improvement for a pretty small (1M elements) array. \n",
    "# This is approximately the size of a 1024x1024 pixel image."
   ]
  },
  {
   "cell_type": "markdown",
   "metadata": {
    "slideshow": {
     "slide_type": "subslide"
    }
   },
   "source": [
    "If you recall the first class, you'll remember that we mentioned how Python code has to be transpiled into C code, which is then compiled to machine code. Numpy arrays take a \"shortcut\" here, are are quickly compiled to efficient C code without the Python overhead. When using vectorized numpy operations, the loop Python does in the backstage is very similar to a loop that a C programmer would have written by hand."
   ]
  },
  {
   "cell_type": "markdown",
   "metadata": {
    "slideshow": {
     "slide_type": "subslide"
    }
   },
   "source": [
    "Another small but significant benefit of numpy arrays is smaller memory footprint:"
   ]
  },
  {
   "cell_type": "code",
   "execution_count": 71,
   "metadata": {
    "slideshow": {
     "slide_type": "subslide"
    }
   },
   "outputs": [
    {
     "name": "stdout",
     "output_type": "stream",
     "text": [
      "Python list size (1M elements, MB): 9.000112\n",
      "Numpy array size (1M elements, MB): 4.0\n"
     ]
    }
   ],
   "source": [
    "from sys import getsizeof\n",
    "\n",
    "python_array = list(range(1000000))\n",
    "list_size = getsizeof(python_array) / 1e6  # in MB\n",
    "print(f\"Python list size (1M elements, MB): {list_size}\")\n",
    "\n",
    "numpy_array = np.arange(1000000, dtype=np.int32)\n",
    "numpy_size = numpy_array.nbytes / 1e6\n",
    "print(f\"Numpy array size (1M elements, MB): {numpy_size}\")\n",
    "\n",
    "# Why a million elements take 4 MB? Each element has to weigh 4 bytes, or 32 bits. This means that the\n",
    "# np.arange() function generates by default int32 values."
   ]
  },
  {
   "cell_type": "markdown",
   "metadata": {
    "slideshow": {
     "slide_type": "subslide"
    }
   },
   "source": [
    "### Indexing and slicing"
   ]
  },
  {
   "cell_type": "code",
   "execution_count": 31,
   "metadata": {
    "slideshow": {
     "slide_type": "subslide"
    }
   },
   "outputs": [
    {
     "name": "stdout",
     "output_type": "stream",
     "text": [
      "a = [0 1 2 3 4 5 6 7 8 9]\n"
     ]
    },
    {
     "data": {
      "text/plain": [
       "(0, 3, 8)"
      ]
     },
     "execution_count": 31,
     "metadata": {},
     "output_type": "execute_result"
    }
   ],
   "source": [
    "a = np.arange(10)\n",
    "print(f\"a = {a}\")\n",
    "a[0], a[3], a[-2]  # Python indexing is always done with square brackets"
   ]
  },
  {
   "cell_type": "code",
   "execution_count": 32,
   "metadata": {
    "slideshow": {
     "slide_type": "subslide"
    }
   },
   "outputs": [
    {
     "data": {
      "text/plain": [
       "array([9, 8, 7, 6, 5, 4, 3, 2, 1, 0])"
      ]
     },
     "execution_count": 32,
     "metadata": {},
     "output_type": "execute_result"
    }
   ],
   "source": [
    "# The beautiful reverse slicing is here as well\n",
    "a[::-1]"
   ]
  },
  {
   "cell_type": "code",
   "execution_count": 33,
   "metadata": {
    "slideshow": {
     "slide_type": "subslide"
    }
   },
   "outputs": [
    {
     "data": {
      "text/plain": [
       "array([[1, 2, 3],\n",
       "       [4, 5, 6]])"
      ]
     },
     "execution_count": 33,
     "metadata": {},
     "output_type": "execute_result"
    }
   ],
   "source": [
    "arr_2d"
   ]
  },
  {
   "cell_type": "code",
   "execution_count": 34,
   "metadata": {
    "slideshow": {
     "slide_type": "subslide"
    }
   },
   "outputs": [
    {
     "data": {
      "text/plain": [
       "3"
      ]
     },
     "execution_count": 34,
     "metadata": {},
     "output_type": "execute_result"
    }
   ],
   "source": [
    "arr_2d[0, 2]  # first row, third column"
   ]
  },
  {
   "cell_type": "code",
   "execution_count": 35,
   "metadata": {
    "slideshow": {
     "slide_type": "subslide"
    }
   },
   "outputs": [
    {
     "data": {
      "text/plain": [
       "array([1, 2, 3])"
      ]
     },
     "execution_count": 35,
     "metadata": {},
     "output_type": "execute_result"
    }
   ],
   "source": [
    "arr_2d[0, :]  # first row, all columns"
   ]
  },
  {
   "cell_type": "code",
   "execution_count": 36,
   "metadata": {
    "slideshow": {
     "slide_type": "subslide"
    }
   },
   "outputs": [
    {
     "data": {
      "text/plain": [
       "array([1, 2, 3])"
      ]
     },
     "execution_count": 36,
     "metadata": {},
     "output_type": "execute_result"
    }
   ],
   "source": [
    "arr_2d[0]  # first item in the first dimension, and all of its corresponding elemets\n",
    "# Similar to arr_2d[0, :]"
   ]
  },
  {
   "cell_type": "code",
   "execution_count": 37,
   "metadata": {
    "slideshow": {
     "slide_type": "subslide"
    }
   },
   "outputs": [
    {
     "data": {
      "text/plain": [
       "array([1, 3, 5, 7, 9])"
      ]
     },
     "execution_count": 37,
     "metadata": {},
     "output_type": "execute_result"
    }
   ],
   "source": [
    "a[1::2]"
   ]
  },
  {
   "cell_type": "code",
   "execution_count": 38,
   "metadata": {
    "slideshow": {
     "slide_type": "subslide"
    }
   },
   "outputs": [
    {
     "data": {
      "text/plain": [
       "array([0, 1])"
      ]
     },
     "execution_count": 38,
     "metadata": {},
     "output_type": "execute_result"
    }
   ],
   "source": [
    "a[:2]  # last index isn't included"
   ]
  },
  {
   "cell_type": "code",
   "execution_count": 39,
   "metadata": {
    "slideshow": {
     "slide_type": "subslide"
    }
   },
   "outputs": [
    {
     "data": {
      "text/plain": [
       "array([0, 2, 4, 6, 8])"
      ]
     },
     "execution_count": 39,
     "metadata": {},
     "output_type": "execute_result"
    }
   ],
   "source": [
    "# In Python, slicing creates a view of an object, not a copy:\n",
    "b = a[::2]\n",
    "b"
   ]
  },
  {
   "cell_type": "code",
   "execution_count": 40,
   "metadata": {
    "slideshow": {
     "slide_type": "subslide"
    }
   },
   "outputs": [
    {
     "data": {
      "text/plain": [
       "array([100,   2,   4,   6,   8])"
      ]
     },
     "execution_count": 40,
     "metadata": {},
     "output_type": "execute_result"
    }
   ],
   "source": [
    "b[0] = 100\n",
    "b"
   ]
  },
  {
   "cell_type": "code",
   "execution_count": 41,
   "metadata": {
    "slideshow": {
     "slide_type": "subslide"
    }
   },
   "outputs": [
    {
     "data": {
      "text/plain": [
       "array([100,   1,   2,   3,   4,   5,   6,   7,   8,   9])"
      ]
     },
     "execution_count": 41,
     "metadata": {},
     "output_type": "execute_result"
    }
   ],
   "source": [
    "a  # a is also changed!"
   ]
  },
  {
   "cell_type": "code",
   "execution_count": 42,
   "metadata": {
    "slideshow": {
     "slide_type": "subslide"
    }
   },
   "outputs": [
    {
     "data": {
      "text/plain": [
       "array([  9,   8,   7,   6,   5,   4,   3,   2,   1, 100])"
      ]
     },
     "execution_count": 42,
     "metadata": {},
     "output_type": "execute_result"
    }
   ],
   "source": [
    "# Copying is done with .copy()\n",
    "a_copy = a[::-1].copy()\n",
    "a_copy"
   ]
  },
  {
   "cell_type": "code",
   "execution_count": 43,
   "metadata": {
    "slideshow": {
     "slide_type": "subslide"
    }
   },
   "outputs": [
    {
     "data": {
      "text/plain": [
       "array([  9, 200,   7,   6,   5,   4,   3,   2,   1, 100])"
      ]
     },
     "execution_count": 43,
     "metadata": {},
     "output_type": "execute_result"
    }
   ],
   "source": [
    "a_copy[1] = 200\n",
    "a_copy"
   ]
  },
  {
   "cell_type": "code",
   "execution_count": 72,
   "metadata": {
    "slideshow": {
     "slide_type": "subslide"
    }
   },
   "outputs": [
    {
     "data": {
      "text/plain": [
       "array([100,   1,   2,   3,   4,   5,   6,   7,   8,   9])"
      ]
     },
     "execution_count": 72,
     "metadata": {},
     "output_type": "execute_result"
    }
   ],
   "source": [
    "a  # unchanged"
   ]
  },
  {
   "cell_type": "markdown",
   "metadata": {
    "slideshow": {
     "slide_type": "subslide"
    }
   },
   "source": [
    "This behavior allows Numpy to save time and memory. It will usually go unnoticed during day-to-day use. Occasionally, however, it can result in ugly bugs which are hard to locate."
   ]
  },
  {
   "cell_type": "markdown",
   "metadata": {
    "slideshow": {
     "slide_type": "subslide"
    }
   },
   "source": [
    "![Numpy indexing](extra_material/numpy_indexing.png)"
   ]
  },
  {
   "cell_type": "markdown",
   "metadata": {
    "slideshow": {
     "slide_type": "subslide"
    }
   },
   "source": [
    "### Aggregation"
   ]
  },
  {
   "cell_type": "code",
   "execution_count": 47,
   "metadata": {
    "slideshow": {
     "slide_type": "subslide"
    }
   },
   "outputs": [
    {
     "data": {
      "text/plain": [
       "492.6043817490305"
      ]
     },
     "execution_count": 47,
     "metadata": {},
     "output_type": "execute_result"
    }
   ],
   "source": [
    "arr = np.random.random(1000)\n",
    "sum(arr)  # The native Python sum works on numpy arrays, but its use is discouraged in this context"
   ]
  },
  {
   "cell_type": "markdown",
   "metadata": {
    "slideshow": {
     "slide_type": "subslide"
    }
   },
   "source": [
    "`sum()` is a built in Python function, capable of working on lists and other native Python data structures. Numpy has its own sum functions: You can either write `np.sum(arr)`, or use `arr.sum()`:"
   ]
  },
  {
   "cell_type": "code",
   "execution_count": 48,
   "metadata": {
    "slideshow": {
     "slide_type": "subslide"
    }
   },
   "outputs": [
    {
     "name": "stdout",
     "output_type": "stream",
     "text": [
      "425 µs ± 13.9 µs per loop (mean ± std. dev. of 7 runs, 1000 loops each)\n",
      "5.73 µs ± 232 ns per loop (mean ± std. dev. of 7 runs, 100000 loops each)\n",
      "3.84 µs ± 34.8 ns per loop (mean ± std. dev. of 7 runs, 100000 loops each)\n"
     ]
    }
   ],
   "source": [
    "%timeit sum(arr)\n",
    "%timeit np.sum(arr)\n",
    "%timeit arr.sum()"
   ]
  },
  {
   "cell_type": "markdown",
   "metadata": {
    "slideshow": {
     "slide_type": "subslide"
    }
   },
   "source": [
    "Keep in mind that the built-in `sum()` and numpy's `np.sum()` aren't identical. `np.sum()` by default calculates the sum of _all axes_, returning a single number for multi-dimensional arrays.\n",
    "\n",
    "In MATLAB, this behavior is replicated with `sum(arr(:))`."
   ]
  },
  {
   "cell_type": "markdown",
   "metadata": {
    "slideshow": {
     "slide_type": "subslide"
    }
   },
   "source": [
    "Likewise, `min()` and `max()` also have two \"competing\" versions:"
   ]
  },
  {
   "cell_type": "code",
   "execution_count": 49,
   "metadata": {
    "slideshow": {
     "slide_type": "subslide"
    }
   },
   "outputs": [
    {
     "name": "stdout",
     "output_type": "stream",
     "text": [
      "246 µs ± 2.72 µs per loop (mean ± std. dev. of 7 runs, 1000 loops each)\n",
      "5.24 µs ± 55.6 ns per loop (mean ± std. dev. of 7 runs, 100000 loops each)\n",
      "4.09 µs ± 33.2 ns per loop (mean ± std. dev. of 7 runs, 100000 loops each)\n"
     ]
    }
   ],
   "source": [
    "%timeit min(arr)  # Native Python\n",
    "%timeit np.min(arr)\n",
    "%timeit arr.min()"
   ]
  },
  {
   "cell_type": "markdown",
   "metadata": {
    "slideshow": {
     "slide_type": "subslide"
    }
   },
   "source": [
    "Calculating the `min` of an array will, again, result in a single number:"
   ]
  },
  {
   "cell_type": "code",
   "execution_count": 50,
   "metadata": {
    "slideshow": {
     "slide_type": "subslide"
    }
   },
   "outputs": [
    {
     "name": "stdout",
     "output_type": "stream",
     "text": [
      "[-0.6050792   0.84392162  0.56977688 -0.79096153 -1.01810465 -0.74117163\n",
      "  2.30932218 -0.24158658  0.17219959 -1.27947755]\n"
     ]
    }
   ],
   "source": [
    "arr2 = np.random.random((100, 100, 100))\n",
    "arr2.min()\n",
    "print(np.random.randn(10))"
   ]
  },
  {
   "cell_type": "markdown",
   "metadata": {
    "slideshow": {
     "slide_type": "subslide"
    }
   },
   "source": [
    "If you wish to calculate it across an axis, use the `axis` keyword:"
   ]
  },
  {
   "cell_type": "code",
   "execution_count": 51,
   "metadata": {
    "slideshow": {
     "slide_type": "subslide"
    }
   },
   "outputs": [
    {
     "name": "stdout",
     "output_type": "stream",
     "text": [
      "[[1.30105370e-04 1.85247986e-02 5.76981265e-04 ... 2.17054628e-03\n",
      "  1.74017353e-03 1.71648417e-02]\n",
      " [9.74708434e-04 1.42110375e-02 2.27249914e-04 ... 1.84564336e-04\n",
      "  9.91460849e-03 5.03250994e-04]\n",
      " [2.10501609e-03 3.11640007e-03 9.31462323e-03 ... 4.80578692e-03\n",
      "  2.53371128e-03 1.15754554e-02]\n",
      " ...\n",
      " [2.64927481e-03 2.05463086e-03 2.03506809e-02 ... 1.71246031e-03\n",
      "  1.22983732e-02 1.23869152e-02]\n",
      " [6.90173657e-04 3.43165101e-03 8.55869758e-03 ... 7.83710115e-04\n",
      "  1.33042948e-02 7.60761611e-03]\n",
      " [3.24140890e-03 7.34097009e-03 9.79868560e-03 ... 3.08316230e-02\n",
      "  6.87046457e-03 2.45869442e-06]]\n",
      "------\n",
      "[0.99996561 0.99998143 0.99979485 0.99995817 0.99992053 0.99996168\n",
      " 0.9997315  0.99988793 0.99991571 0.9999547  0.99999641 0.99999241\n",
      " 0.99995579 0.99997798 0.99991344 0.99989906 0.9997946  0.9999751\n",
      " 0.99997769 0.99986947 0.99986118 0.99993987 0.99994818 0.99999912\n",
      " 0.99978118 0.999931   0.99992138 0.9997643  0.99999697 0.99999074\n",
      " 0.99997707 0.9998866  0.99990193 0.99990738 0.99998946 0.99989151\n",
      " 0.9997099  0.99959016 0.99997593 0.99997737 0.99988775 0.99961308\n",
      " 0.99993094 0.99979866 0.99995253 0.99961581 0.99987174 0.99998452\n",
      " 0.99999329 0.99997286 0.99988013 0.9999925  0.99986677 0.99941302\n",
      " 0.99993073 0.99992371 0.99984225 0.99993421 0.99991963 0.999891\n",
      " 0.99998051 0.99998862 0.9998364  0.99990511 0.99997079 0.99989711\n",
      " 0.99993595 0.99992156 0.99999846 0.99996437 0.99998124 0.99998357\n",
      " 0.99999904 0.99994938 0.99984871 0.99998585 0.99997514 0.99974715\n",
      " 0.9998266  0.99993263 0.99980709 0.99985129 0.99988653 0.99998284\n",
      " 0.99998748 0.99960565 0.99960208 0.99996221 0.99990834 0.99984928\n",
      " 0.99968836 0.99995474 0.99990516 0.9999885  0.9999369  0.99995389\n",
      " 0.99970489 0.99996686 0.9998634  0.99998103]\n"
     ]
    }
   ],
   "source": [
    "# 2D output - axis number 0 was \"dropped\"\n",
    "print(arr2.min(axis=0))\n",
    "\n",
    "print('------')\n",
    "# 1D output - the two first axes were summed over\n",
    "print(arr2.max(axis=(0, 1)))"
   ]
  },
  {
   "cell_type": "markdown",
   "metadata": {
    "slideshow": {
     "slide_type": "subslide"
    }
   },
   "source": [
    "Many other aggregation functions exist, including:\n",
    "```\n",
    "- np.var\n",
    "- np.std\n",
    "- np.argmin\\argmax\n",
    "- np.median\n",
    "- ...\n",
    "```\n",
    "Most of them have an object-oriented version, i.e. `arr.var()`, and a procedural version, i.e. `np.var(arr)`."
   ]
  },
  {
   "cell_type": "markdown",
   "metadata": {
    "slideshow": {
     "slide_type": "subslide"
    }
   },
   "source": [
    "### Fancy indexing"
   ]
  },
  {
   "cell_type": "markdown",
   "metadata": {
    "slideshow": {
     "slide_type": "subslide"
    }
   },
   "source": [
    "In Numpy, indexing an array with a different array is called \"fancy\" indexing. Perhaps confusingly, it creates a copy, not a view."
   ]
  },
  {
   "cell_type": "code",
   "execution_count": 52,
   "metadata": {
    "slideshow": {
     "slide_type": "subslide"
    }
   },
   "outputs": [
    {
     "data": {
      "text/plain": [
       "array([0, 1, 2, 3, 4, 5, 6, 7, 8, 9])"
      ]
     },
     "execution_count": 52,
     "metadata": {},
     "output_type": "execute_result"
    }
   ],
   "source": [
    "basic_array = np.arange(10)\n",
    "basic_array"
   ]
  },
  {
   "cell_type": "code",
   "execution_count": 53,
   "metadata": {
    "slideshow": {
     "slide_type": "subslide"
    }
   },
   "outputs": [
    {
     "data": {
      "text/plain": [
       "array([ True, False,  True, False,  True, False,  True, False,  True,\n",
       "       False])"
      ]
     },
     "execution_count": 53,
     "metadata": {},
     "output_type": "execute_result"
    }
   ],
   "source": [
    "mask = (basic_array % 2 == 0)\n",
    "mask"
   ]
  },
  {
   "cell_type": "code",
   "execution_count": 54,
   "metadata": {
    "slideshow": {
     "slide_type": "subslide"
    }
   },
   "outputs": [],
   "source": [
    "b = basic_array[mask]  # also basic_array[basic_array % 2 == 0]"
   ]
  },
  {
   "cell_type": "markdown",
   "metadata": {
    "slideshow": {
     "slide_type": "subslide"
    }
   },
   "source": [
    "MATLAB veterans shouldn't be surprised from this feature, but if you haven't seen it before make sure to have a firm grasp on it, as it's a very powerful technique."
   ]
  },
  {
   "cell_type": "code",
   "execution_count": 55,
   "metadata": {
    "slideshow": {
     "slide_type": "subslide"
    }
   },
   "outputs": [
    {
     "name": "stdout",
     "output_type": "stream",
     "text": [
      "basic array: [0 1 2 3 4 5 6 7 8 9]\n",
      "b: [999 999 999 999 999]\n"
     ]
    }
   ],
   "source": [
    "b[:] = 999\n",
    "print(f\"basic array: {basic_array}\")\n",
    "print(f\"b: {b}\")"
   ]
  },
  {
   "cell_type": "code",
   "execution_count": 56,
   "metadata": {
    "slideshow": {
     "slide_type": "subslide"
    }
   },
   "outputs": [
    {
     "data": {
      "text/plain": [
       "array([ 0. ,  1.5,  3. ,  4.5,  6. ,  7.5,  9. , 10.5, 12. , 13.5, 15. ,\n",
       "       16.5, 18. , 19.5])"
      ]
     },
     "execution_count": 56,
     "metadata": {},
     "output_type": "execute_result"
    }
   ],
   "source": [
    "float_array = np.arange(start=0, stop=20, step=1.5)\n",
    "float_array"
   ]
  },
  {
   "cell_type": "code",
   "execution_count": 57,
   "metadata": {
    "slideshow": {
     "slide_type": "subslide"
    }
   },
   "outputs": [
    {
     "data": {
      "text/plain": [
       "array([ 1.5,  3. ,  7.5,  7.5, 15. ])"
      ]
     },
     "execution_count": 57,
     "metadata": {},
     "output_type": "execute_result"
    }
   ],
   "source": [
    "float_array[[1, 2, 5, 5, 10]]  # copy, not a view. Meaning that the resulting array is a new\n",
    "# instance of the original array, independent of it, in a different location in memory."
   ]
  },
  {
   "cell_type": "markdown",
   "metadata": {
    "slideshow": {
     "slide_type": "subslide"
    }
   },
   "source": [
    "Counting the amount of values that fit our condition can be done as follows:"
   ]
  },
  {
   "cell_type": "code",
   "execution_count": 58,
   "metadata": {
    "slideshow": {
     "slide_type": "subslide"
    }
   },
   "outputs": [
    {
     "name": "stdout",
     "output_type": "stream",
     "text": [
      "np.count_nonzero result: 5\n",
      "np.sum result: 5\n"
     ]
    }
   ],
   "source": [
    "basic_array = np.arange(10)\n",
    "count_nonzero_result = np.count_nonzero(basic_array % 2 == 0)\n",
    "sum_result = np.sum(basic_array % 2 == 0)\n",
    "\n",
    "print(f\"np.count_nonzero result: {count_nonzero_result}\")\n",
    "print(f\"np.sum result: {sum_result}\")\n",
    "# In the latter case, True is 1 and False is 0"
   ]
  },
  {
   "cell_type": "markdown",
   "metadata": {
    "slideshow": {
     "slide_type": "subslide"
    }
   },
   "source": [
    "If we wish to add more conditions in to the mix, we can use the `&, |, ~, ^` operators (and, or, not, xor):"
   ]
  },
  {
   "cell_type": "code",
   "execution_count": 79,
   "metadata": {
    "slideshow": {
     "slide_type": "subslide"
    }
   },
   "outputs": [
    {
     "data": {
      "text/plain": [
       "4"
      ]
     },
     "execution_count": 79,
     "metadata": {},
     "output_type": "execute_result"
    }
   ],
   "source": [
    "((basic_array % 2 == 1) & (basic_array != 3)).sum()  # uneven values that are different from 3"
   ]
  },
  {
   "cell_type": "markdown",
   "metadata": {
    "slideshow": {
     "slide_type": "subslide"
    }
   },
   "source": [
    "Note that numpy uses the `&, |, ~, ^` operators for element-by-element comparison, while the reserved `and` and `or` keywords evaluate the entire object:"
   ]
  },
  {
   "cell_type": "code",
   "execution_count": 60,
   "metadata": {
    "slideshow": {
     "slide_type": "subslide"
    }
   },
   "outputs": [
    {
     "ename": "ValueError",
     "evalue": "The truth value of an array with more than one element is ambiguous. Use a.any() or a.all()",
     "output_type": "error",
     "traceback": [
      "\u001b[0;31m---------------------------------------------------------------------------\u001b[0m",
      "\u001b[0;31mValueError\u001b[0m                                Traceback (most recent call last)",
      "\u001b[0;32m<ipython-input-60-e462a6643cbd>\u001b[0m in \u001b[0;36m<module>\u001b[0;34m\u001b[0m\n\u001b[0;32m----> 1\u001b[0;31m \u001b[0mnp\u001b[0m\u001b[0;34m.\u001b[0m\u001b[0msum\u001b[0m\u001b[0;34m(\u001b[0m\u001b[0;34m(\u001b[0m\u001b[0mbasic_array\u001b[0m \u001b[0;34m%\u001b[0m \u001b[0;36m2\u001b[0m \u001b[0;34m==\u001b[0m \u001b[0;36m1\u001b[0m\u001b[0;34m)\u001b[0m \u001b[0;32mand\u001b[0m \u001b[0;34m(\u001b[0m\u001b[0mbasic_array\u001b[0m \u001b[0;34m!=\u001b[0m \u001b[0;36m3\u001b[0m\u001b[0;34m)\u001b[0m\u001b[0;34m)\u001b[0m   \u001b[0;31m# doesn't work, \"and\" isn't used this way here\u001b[0m\u001b[0;34m\u001b[0m\u001b[0;34m\u001b[0m\u001b[0m\n\u001b[0m",
      "\u001b[0;31mValueError\u001b[0m: The truth value of an array with more than one element is ambiguous. Use a.any() or a.all()"
     ]
    }
   ],
   "source": [
    "np.sum((basic_array % 2 == 1) and (basic_array != 3))   # doesn't work, \"and\" isn't used this way here"
   ]
  },
  {
   "cell_type": "markdown",
   "metadata": {
    "slideshow": {
     "slide_type": "subslide"
    }
   },
   "source": [
    "### Sorting"
   ]
  },
  {
   "cell_type": "markdown",
   "metadata": {
    "slideshow": {
     "slide_type": "subslide"
    }
   },
   "source": [
    "Again we face a condition in which Python has its own `sort` functions, but numpy's `np.sort()` are much better suited for arrays. We can either sort in-place, or have a new object back:"
   ]
  },
  {
   "cell_type": "code",
   "execution_count": 80,
   "metadata": {
    "slideshow": {
     "slide_type": "subslide"
    }
   },
   "outputs": [
    {
     "name": "stdout",
     "output_type": "stream",
     "text": [
      "[ 1  2  3  4  4  8 10]\n",
      "[ 1  2  3  4  4  8 10]\n"
     ]
    }
   ],
   "source": [
    "# Return a new object:\n",
    "arr = np.array([ 3, 4, 1, 8, 10, 2, 4])\n",
    "print(np.sort(arr))\n",
    "\n",
    "# Sort in-place:\n",
    "arr.sort()\n",
    "print(arr)"
   ]
  },
  {
   "cell_type": "markdown",
   "metadata": {
    "slideshow": {
     "slide_type": "subslide"
    }
   },
   "source": [
    "The default implementation is a _quicksort_, but other sorting algorithms can be found as well."
   ]
  },
  {
   "cell_type": "code",
   "execution_count": 81,
   "metadata": {
    "slideshow": {
     "slide_type": "subslide"
    }
   },
   "outputs": [
    {
     "name": "stdout",
     "output_type": "stream",
     "text": [
      "Sorted indices: [2 5 0 1 6 3 4]\n"
     ]
    },
    {
     "data": {
      "text/plain": [
       "array([ 1,  2,  3,  4,  4,  8, 10])"
      ]
     },
     "execution_count": 81,
     "metadata": {},
     "output_type": "execute_result"
    }
   ],
   "source": [
    "# np.argsort will return the indices of the sorted array:\n",
    "arr = np.array([ 3, 4, 1, 8, 10, 2, 4])\n",
    "print(\"Sorted indices: {}\".format(np.argsort(arr)))\n",
    "\n",
    "# Usage is as follows:\n",
    "arr[np.argsort(arr)]"
   ]
  },
  {
   "cell_type": "markdown",
   "metadata": {
    "slideshow": {
     "slide_type": "subslide"
    }
   },
   "source": [
    "### Concatenation\n",
    "\n",
    "Concatenation (and splitting) in numpy works as follows:"
   ]
  },
  {
   "cell_type": "code",
   "execution_count": 82,
   "metadata": {
    "slideshow": {
     "slide_type": "subslide"
    }
   },
   "outputs": [
    {
     "data": {
      "text/plain": [
       "array([1, 2, 3, 3, 2, 1])"
      ]
     },
     "execution_count": 82,
     "metadata": {},
     "output_type": "execute_result"
    }
   ],
   "source": [
    "x = np.array([1, 2, 3])\n",
    "y = np.array([3, 2, 1])\n",
    "np.concatenate([x, y])  # concatenates along the first axis"
   ]
  },
  {
   "cell_type": "code",
   "execution_count": 84,
   "metadata": {
    "slideshow": {
     "slide_type": "subslide"
    }
   },
   "outputs": [
    {
     "data": {
      "text/plain": [
       "array([ 1,  2,  3,  3,  2,  1, 99, 99, 99])"
      ]
     },
     "execution_count": 84,
     "metadata": {},
     "output_type": "execute_result"
    }
   ],
   "source": [
    "# Concatenate more than two arrays\n",
    "z = [99, 99, 99]\n",
    "np.concatenate([x, y, z])  # notice how the function argument is an iterable!"
   ]
  },
  {
   "cell_type": "code",
   "execution_count": 86,
   "metadata": {
    "slideshow": {
     "slide_type": "subslide"
    }
   },
   "outputs": [
    {
     "data": {
      "text/plain": [
       "array([[ 0,  1,  2,  6,  7,  8],\n",
       "       [ 3,  4,  5,  9, 10, 11]])"
      ]
     },
     "execution_count": 86,
     "metadata": {},
     "output_type": "execute_result"
    }
   ],
   "source": [
    "# 2D - along the last axis\n",
    "twod_1 = np.array([[0, 1, 2],\n",
    "                   [3, 4, 5]])\n",
    "twod_2 = np.array([[6, 7, 8],\n",
    "                   [9, 10, 11]])\n",
    "np.concatenate((twod_1, twod_2), axis=-1)"
   ]
  },
  {
   "cell_type": "code",
   "execution_count": 87,
   "metadata": {
    "slideshow": {
     "slide_type": "subslide"
    }
   },
   "outputs": [
    {
     "data": {
      "text/plain": [
       "array([[ 0,  1,  2],\n",
       "       [30, 40, 50],\n",
       "       [60, 70, 80]])"
      ]
     },
     "execution_count": 87,
     "metadata": {},
     "output_type": "execute_result"
    }
   ],
   "source": [
    "# np.vstack and np.hstack are also an option\n",
    "sim1 = np.array([0, 1, 2])\n",
    "sim2 = np.array([[30, 40, 50],\n",
    "                 [60, 70, 80]])\n",
    "np.vstack((sim1, sim2))"
   ]
  },
  {
   "cell_type": "markdown",
   "metadata": {
    "slideshow": {
     "slide_type": "subslide"
    }
   },
   "source": [
    "Splitting up arrays is also quite easy:"
   ]
  },
  {
   "cell_type": "code",
   "execution_count": 88,
   "metadata": {
    "slideshow": {
     "slide_type": "subslide"
    }
   },
   "outputs": [
    {
     "data": {
      "text/plain": [
       "array([[ 0,  1,  2,  3],\n",
       "       [ 4,  5,  6,  7],\n",
       "       [ 8,  9, 10, 11],\n",
       "       [12, 13, 14, 15]])"
      ]
     },
     "execution_count": 88,
     "metadata": {},
     "output_type": "execute_result"
    }
   ],
   "source": [
    "arr = np.arange(16).reshape((4, 4))  # see the tuple? Shapes of arrays always come in tuples\n",
    "arr"
   ]
  },
  {
   "cell_type": "code",
   "execution_count": 89,
   "metadata": {
    "scrolled": true,
    "slideshow": {
     "slide_type": "subslide"
    }
   },
   "outputs": [
    {
     "name": "stdout",
     "output_type": "stream",
     "text": [
      "[[ 0  1  2  3]\n",
      " [ 4  5  6  7]\n",
      " [ 8  9 10 11]]\n",
      "---\n",
      "[[12 13 14 15]]\n"
     ]
    }
   ],
   "source": [
    "upper, lower = np.split(arr, [3])  # splits at the fourth line (of the first axis, by default)\n",
    "print(upper)\n",
    "print('---')\n",
    "print(lower)"
   ]
  },
  {
   "cell_type": "markdown",
   "metadata": {
    "slideshow": {
     "slide_type": "slide"
    }
   },
   "source": [
    "### Exercise"
   ]
  },
  {
   "cell_type": "markdown",
   "metadata": {
    "slideshow": {
     "slide_type": "subslide"
    }
   },
   "source": [
    "#### a. Familiarization:\n",
    "\n",
    "Create two random 3D arrays, at least 3x3x3 in size. The first should have random integers between 0 and 100, while the second should contain floating points numbers drawn from the normal distribution, with mean -1 and standard deviation of 2 \n",
    "\n",
    "1. What are the default datatypes of integer and floating-point arrays in numpy?\n",
    "\n",
    "2. Center the distribution of the first integer array around 0, with values between -1 and 1.\n",
    "\n",
    "3. Caclulate their mean, standard deviation along the last axis, and sum along the second axis. Remember that arrays are, like everything in Python, objects.\n",
    "\n",
    "\n",
    "#### b. _Iteration over an array:_ \n",
    "\n",
    "Find and return the indices of the two random arrays only where _both elements_ comply with -0.5 <= X <= 0.5. Do so in at least two distinct ways. These can include elementwise iteration, masked-arrays, and more.\n",
    "\n",
    "Time the execution of the script using the IPython `%%timeit` magic if you have this tool near at hand.\n",
    "\n",
    "#### c. _Broadcasting:_\n",
    "1. Create a vector with length 100, filled with ones, and a 2D zero-filled array with its last dimension with size of 100. \n",
    "2. Using `np.tile`, add the vector and the array.\n",
    "3. Did you have to use `np.tile` in this case? What feature of numpy allows this?\n",
    "4. What happens to the non-tiled addition when the first dimension of the matrix is 100? Why?\n",
    "5. Bonus: How can one add the matrix (in its new shape) and vector without np.tile()?"
   ]
  },
  {
   "cell_type": "markdown",
   "metadata": {
    "slideshow": {
     "slide_type": "subslide"
    }
   },
   "source": [
    "### Exercise solutions below..."
   ]
  },
  {
   "cell_type": "code",
   "execution_count": 94,
   "metadata": {
    "slideshow": {
     "slide_type": "subslide"
    }
   },
   "outputs": [
    {
     "name": "stdout",
     "output_type": "stream",
     "text": [
      "arr1 (integers) stats:\n",
      "Mean: -0.023420000000000003,\n",
      "STD: [[0.47478837 0.68637016 0.58376708 0.56718251 0.42506    0.49947573\n",
      "  0.29090205 0.44857106 0.25609373 0.474135  ]\n",
      " [0.60274041 0.51833966 0.52748839 0.72977805 0.54779923 0.51326796\n",
      "  0.5906234  0.5901898  0.56262243 0.56998596]\n",
      " [0.40632992 0.51651137 0.55392779 0.42287114 0.48624685 0.50604348\n",
      "  0.61280992 0.57788926 0.49024484 0.65422932]\n",
      " [0.53679046 0.66198489 0.41048264 0.58863911 0.51373534 0.43623847\n",
      "  0.42009999 0.48875761 0.67864866 0.4708333 ]\n",
      " [0.35264146 0.48793852 0.58085799 0.56838367 0.59671099 0.52435103\n",
      "  0.28157415 0.45654792 0.50344414 0.58748617]\n",
      " [0.61436471 0.57573952 0.44371613 0.5780692  0.61662306 0.6661081\n",
      "  0.48164717 0.64542699 0.50950957 0.27100553]\n",
      " [0.48645658 0.61300571 0.65473353 0.53477472 0.74608579 0.52701423\n",
      "  0.71240719 0.54757648 0.5125778  0.5209261 ]\n",
      " [0.60315504 0.55765581 0.47402953 0.63215188 0.45543825 0.56143032\n",
      "  0.45360776 0.60039987 0.52351122 0.54376465]\n",
      " [0.56255133 0.45941267 0.48125253 0.57070132 0.67659146 0.53874298\n",
      "  0.6125651  0.41403382 0.5356118  0.47030203]\n",
      " [0.59781268 0.74882308 0.52314816 0.46177484 0.58194501 0.50235048\n",
      "  0.60842419 0.56172947 0.52922585 0.47423623]],\n",
      "Sum: [[-3.18  1.46 -2.   -1.68 -1.8   0.6   1.2  -0.7  -0.96 -0.68]\n",
      " [ 1.34  0.3  -1.84  0.46  2.52 -1.72 -1.84  1.28  0.82  1.7 ]\n",
      " [ 0.98 -1.26  0.88  1.16  1.56 -0.26 -2.96  1.84 -0.06 -1.82]\n",
      " [ 0.9  -2.   -1.92  1.16 -1.36  0.06 -0.78 -0.94 -1.02  2.16]\n",
      " [ 1.38  0.28 -2.92  0.42  2.12 -1.96 -0.02 -1.66 -0.08 -1.38]\n",
      " [ 0.46 -2.   -1.24 -2.38 -2.06  0.34  2.28  1.08 -0.06 -2.1 ]\n",
      " [-0.04 -0.98  3.04 -3.64  0.2  -1.52  0.4   2.16 -3.2  -0.66]\n",
      " [ 0.66 -1.7  -1.04 -1.8   1.14 -0.4   3.32  1.08 -2.26  0.74]\n",
      " [ 1.58  2.38  0.92 -1.82 -0.48 -0.58 -3.22  0.06  0.62 -0.28]\n",
      " [ 0.76  2.52 -0.6   0.44  1.98 -1.56 -0.82 -1.4   0.42 -1.94]]\n",
      "arr2 (normal distribution) stats:\n",
      "Mean: -0.9959236248540331,\n",
      "STD: [[1.79424688 1.49241388 1.96505053 1.62707513 1.94899901 2.07307017\n",
      "  2.89659017 1.90687159 1.83053977 2.61284006]\n",
      " [2.17880307 2.8008312  1.83755521 2.06060048 1.8694077  1.63627537\n",
      "  2.336312   2.16213927 1.58541041 0.92609706]\n",
      " [2.20097275 2.43971941 1.66432832 1.59677822 1.59988497 1.4684195\n",
      "  1.49914718 1.57594882 1.94784192 2.17235306]\n",
      " [2.23879449 1.86367471 2.48081773 3.08039473 1.68229979 1.7233158\n",
      "  1.30944742 1.50893648 1.778121   1.32331471]\n",
      " [1.67573661 1.69118577 1.63627813 1.44929939 1.81679306 1.70428842\n",
      "  2.29455772 2.30281561 1.75946881 2.02801859]\n",
      " [1.96484141 1.57037433 2.42859798 1.47947636 2.28115591 3.01937387\n",
      "  1.62739447 2.10647217 2.0951465  2.26338481]\n",
      " [2.69814114 1.77374635 2.5072512  1.18255732 2.04500251 2.05418189\n",
      "  1.88472315 1.06539428 3.5233988  1.62190236]\n",
      " [1.99466835 2.05767501 1.95608646 1.95266636 2.25468497 2.1472633\n",
      "  1.11320002 1.77780401 1.93907388 3.1173279 ]\n",
      " [1.89615787 1.84728952 2.03740752 1.91014786 1.8011799  2.26500408\n",
      "  2.34280086 2.03279394 1.18773986 2.1929014 ]\n",
      " [1.50014876 2.34024005 1.78423498 1.86424383 2.11126759 1.94124433\n",
      "  1.29373746 2.01051351 2.54755393 1.66761432]],\n",
      "Sum: [[-21.17588086  -1.25028757  -7.94035294 -11.65686694 -12.19043741\n",
      "  -12.71322402  -9.94898001  -5.90402672  -9.02488672 -13.29061214]\n",
      " [ -5.14711586  -5.76232066  -7.74108896 -10.51075885  -7.12255762\n",
      "    7.87851344 -13.92706369 -10.9864612  -17.01309597 -20.82234986]\n",
      " [ -5.2347858  -22.23773131  -5.63339249   4.69832985 -23.46934673\n",
      "  -11.17993283 -16.30878723 -12.78271968 -20.46659951 -15.42316411]\n",
      " [ -1.77549462 -21.81364697  -4.02668007  -8.82411801   2.65889006\n",
      "  -16.41753333 -17.67411673  -4.59115509  -4.87015701 -22.38890554]\n",
      " [  2.41738612  -9.71164409 -13.31761853 -10.27018333 -11.3953483\n",
      "    1.12720421  -9.58091824 -11.61944749  -7.7902402  -17.73827982]\n",
      " [-11.40261197 -13.56845123 -15.91705716  -6.91739281 -22.20527089\n",
      "   -7.64820403  -6.17430245  -5.70657077 -19.38930191  -8.23346628]\n",
      " [ -6.71755999  -7.88574248 -17.04976689   4.98700736 -12.85768135\n",
      "  -13.8984123   -6.97476875 -15.13941212  -9.59301471 -22.34716202]\n",
      " [ -7.30796793  -5.30111652  -6.55481736  -7.58661748 -19.81784414\n",
      "   -0.28666807  -7.0743218  -13.96991389  -2.87789305  -1.58407892]\n",
      " [-16.00831739  -9.38928641 -11.6388013   -5.42348865 -22.69269345\n",
      "   -0.06851398  -7.47570576  -5.92124446 -14.44835886 -15.25853018]\n",
      " [-15.79760005 -11.99655016  -4.33609416 -18.96514303  -1.00761051\n",
      "  -14.76013792   2.72816897  -4.60432042  -4.0820855   -5.88693836]]\n"
     ]
    }
   ],
   "source": [
    "# a\n",
    "# 1\n",
    "low = 0\n",
    "high = 100\n",
    "arr1 = np.random.randint(low=low, high=high, size=(10, 10, 10))  # dtype is np.int32\n",
    "arr2 = np.random.randn(10, 10, 10) * 2 - 1  # dtype is np.float64\n",
    "\n",
    "# 2\n",
    "middle = (high - low) / 2\n",
    "arr1 = (arr1 - middle) / middle\n",
    "\n",
    "# 3\n",
    "print(\"arr1 (integers) stats:\")\n",
    "print(f\"Mean: {arr1.mean()},\\nSTD: {arr1.std(axis=-1)},\\nSum: {arr1.sum(axis=1)}\")\n",
    "print(\"arr2 (normal distribution) stats:\")\n",
    "print(f\"Mean: {arr2.mean()},\\nSTD: {arr2.std(axis=-1)},\\nSum: {arr2.sum(axis=1)}\")"
   ]
  },
  {
   "cell_type": "code",
   "execution_count": 95,
   "metadata": {
    "slideshow": {
     "slide_type": "subslide"
    }
   },
   "outputs": [
    {
     "name": "stdout",
     "output_type": "stream",
     "text": [
      "936 µs ± 21.3 µs per loop (mean ± std. dev. of 7 runs, 1000 loops each)\n"
     ]
    }
   ],
   "source": [
    "%%timeit\n",
    "# b\n",
    "# 1 - elementwise\n",
    "result = []\n",
    "for idx, (item1, item2) in enumerate(zip(arr1.flat, arr2.flat)):\n",
    "    if (-0.5 <= item1 <= 0.5) and (-0.5 <= item2 <= 0.5):\n",
    "        result.append(idx)\n",
    "result"
   ]
  },
  {
   "cell_type": "code",
   "execution_count": 96,
   "metadata": {
    "slideshow": {
     "slide_type": "subslide"
    }
   },
   "outputs": [
    {
     "name": "stdout",
     "output_type": "stream",
     "text": [
      "16.9 µs ± 597 ns per loop (mean ± std. dev. of 7 runs, 100000 loops each)\n"
     ]
    }
   ],
   "source": [
    "%%timeit\n",
    "# b\n",
    "# 2 - masked arrays createed by np.ravel(), np.where()\n",
    "mask1 = ((-0.5 <= arr1.ravel()) & (arr1.ravel() <= 0.5))\n",
    "mask2 = ((-0.5 <= arr2.ravel()) & (arr2.ravel() <= 0.5))\n",
    "both_positive = np.logical_and(mask1, mask2)\n",
    "result = np.where(both_positive)\n",
    "result"
   ]
  },
  {
   "cell_type": "markdown",
   "metadata": {
    "slideshow": {
     "slide_type": "subslide"
    }
   },
   "source": [
    "As you can tell, the second solution is far more efficient than the first, and after a few read code blocks, the syntax presented there can be at least as clear as the one in the first solution."
   ]
  },
  {
   "cell_type": "code",
   "execution_count": 97,
   "metadata": {
    "slideshow": {
     "slide_type": "subslide"
    }
   },
   "outputs": [
    {
     "name": "stdout",
     "output_type": "stream",
     "text": [
      "(100, 10)\n"
     ]
    }
   ],
   "source": [
    "# c\n",
    "# 1\n",
    "vec = np.ones(100)\n",
    "mat = np.zeros((10, 100))\n",
    "\n",
    "# 2\n",
    "tiled_vec = np.tile(vec, (10, 1))  # transpose is necessary\n",
    "ans_tiled = mat + tiled_vec\n",
    "\n",
    "# 3\n",
    "ans_simple = mat + vec  # It's called array broadcasting\n",
    "\n",
    "# 4\n",
    "mat_transposed = mat.T\n",
    "print(mat_transposed.shape)\n",
    "# ans_trans = mat_transposed + vec  # fails because broadcasting is done over the last dimension\n",
    "\n",
    "# 5 - np.newaxis is the answer - very perfomant\n",
    "ans_newaxis = mat_transposed + vec[:, np.newaxis]"
   ]
  }
 ],
 "metadata": {
  "anaconda-cloud": {},
  "kernelspec": {
   "display_name": "Python 3",
   "language": "python",
   "name": "python3"
  },
  "language_info": {
   "codemirror_mode": {
    "name": "ipython",
    "version": 3
   },
   "file_extension": ".py",
   "mimetype": "text/x-python",
   "name": "python",
   "nbconvert_exporter": "python",
   "pygments_lexer": "ipython3",
   "version": "3.7.1"
  }
 },
 "nbformat": 4,
 "nbformat_minor": 2
}
