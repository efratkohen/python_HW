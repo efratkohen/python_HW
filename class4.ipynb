{
 "cells": [
  {
   "cell_type": "markdown",
   "metadata": {
    "slideshow": {
     "slide_type": "slide"
    }
   },
   "source": [
    "# Class 4 - 25.3.19"
   ]
  },
  {
   "cell_type": "markdown",
   "metadata": {
    "slideshow": {
     "slide_type": "slide"
    }
   },
   "source": [
    "# Part 2 - Object Oriented Programming"
   ]
  },
  {
   "cell_type": "markdown",
   "metadata": {
    "slideshow": {
     "slide_type": "slide"
    }
   },
   "source": [
    "## Inheritance"
   ]
  },
  {
   "cell_type": "markdown",
   "metadata": {
    "slideshow": {
     "slide_type": "subslide"
    }
   },
   "source": [
    "One of the most important aspects or features of object-oriented programming is _inheritance_. Since we're now modeling \"real-life\" objects, we can think of the relations between these objects in our code. Inheritance is a specific type of relation that signifies that we have a \"child\" object which _inherits_ from its \"parent\". A simple example should be quite clear:"
   ]
  },
  {
   "cell_type": "code",
   "execution_count": 1,
   "metadata": {
    "slideshow": {
     "slide_type": "subslide"
    }
   },
   "outputs": [],
   "source": [
    "# The base class\n",
    "class Person:\n",
    "    \"\"\" An object representing the average Joe (or Jane) \"\"\"\n",
    "    def __init__(self, name='Jane', age=42, gender='F'):\n",
    "        self.name = name\n",
    "        self.age = age\n",
    "        self.gender = gender\n",
    "    \n",
    "    def is_old(self):\n",
    "        \"\"\" Ageism is wrong \"\"\"\n",
    "        return self.age > 120"
   ]
  },
  {
   "cell_type": "code",
   "execution_count": 2,
   "metadata": {
    "slideshow": {
     "slide_type": "subslide"
    }
   },
   "outputs": [
    {
     "data": {
      "text/plain": [
       "False"
      ]
     },
     "execution_count": 2,
     "metadata": {},
     "output_type": "execute_result"
    }
   ],
   "source": [
    "woman_a = Person(name='Tammy', age=40, gender='F')\n",
    "woman_a.is_old()"
   ]
  },
  {
   "cell_type": "markdown",
   "metadata": {
    "slideshow": {
     "slide_type": "subslide"
    }
   },
   "source": [
    "As you can see, we created a `Person()`, which obviously corresponds to a (simplified) real-life person.\n",
    "\n",
    "Now we'll introduce inheritance, by creating a new class that inherits from `Person()`:"
   ]
  },
  {
   "cell_type": "code",
   "execution_count": 3,
   "metadata": {
    "slideshow": {
     "slide_type": "subslide"
    }
   },
   "outputs": [],
   "source": [
    "class Student(Person):\n",
    "    def __init__(self, name='Jane', age=42, gender='F', school='Sagol', gpa=5.):\n",
    "        super().__init__(name, age, gender)  # initialize the Person, termed super(), for super-class\n",
    "        self.school = school\n",
    "        self.gpa = gpa\n",
    "        \n",
    "    def try_expel(self):\n",
    "        \"\"\" A low GPA will get you kicked \"\"\"\n",
    "        if self.gpa < 4.5:\n",
    "            self.school = None\n",
    "            return True"
   ]
  },
  {
   "cell_type": "code",
   "execution_count": 4,
   "metadata": {
    "slideshow": {
     "slide_type": "subslide"
    }
   },
   "outputs": [],
   "source": [
    "stud = Student('John', 25, 'M', 'Life Sciences', 4.2)"
   ]
  },
  {
   "cell_type": "markdown",
   "metadata": {
    "slideshow": {
     "slide_type": "subslide"
    }
   },
   "source": [
    "Which methods and attributes does our `stud` have?"
   ]
  },
  {
   "cell_type": "code",
   "execution_count": 5,
   "metadata": {
    "slideshow": {
     "slide_type": "subslide"
    }
   },
   "outputs": [
    {
     "name": "stdout",
     "output_type": "stream",
     "text": [
      "John\n",
      "4.2\n",
      "Life Sciences\n"
     ]
    }
   ],
   "source": [
    "# Methods from both the Person and the Student class, of course.\n",
    "print(stud.name)\n",
    "print(stud.gpa)\n",
    "print(stud.school)"
   ]
  },
  {
   "cell_type": "code",
   "execution_count": 6,
   "metadata": {
    "slideshow": {
     "slide_type": "subslide"
    }
   },
   "outputs": [
    {
     "data": {
      "text/plain": [
       "False"
      ]
     },
     "execution_count": 6,
     "metadata": {},
     "output_type": "execute_result"
    }
   ],
   "source": [
    "stud.is_old()"
   ]
  },
  {
   "cell_type": "code",
   "execution_count": 7,
   "metadata": {
    "slideshow": {
     "slide_type": "subslide"
    }
   },
   "outputs": [
    {
     "name": "stdout",
     "output_type": "stream",
     "text": [
      "None\n"
     ]
    }
   ],
   "source": [
    "stud.try_expel()\n",
    "print(stud.school)"
   ]
  },
  {
   "cell_type": "markdown",
   "metadata": {
    "slideshow": {
     "slide_type": "subslide"
    }
   },
   "source": [
    "Inheritance can facilitate code re-use and simpler, clearer mental models of the problem at hand.\n",
    "\n",
    "A possible issue with inheritance is readability - finding the methods that are associated with the base class can be cumbersome. This is why usually people try to avoid more than a single layer of inheritance."
   ]
  },
  {
   "cell_type": "markdown",
   "metadata": {
    "slideshow": {
     "slide_type": "slide"
    }
   },
   "source": [
    "## Exercise\n",
    "### Smartphones"
   ]
  },
  {
   "cell_type": "markdown",
   "metadata": {
    "slideshow": {
     "slide_type": "subslide"
    }
   },
   "source": [
    "Model both a smartphone and a label-specific phone - an iPhone in our case - by using a parent and child class. Have at least one method and one attribute for the base class, and at least one unique method for the child class.\n",
    "\n",
    "One of the methods has to be a `call(phone)` method, designed to call from one phone to the other. When `call()`ing between iPhones, the method should use the FaceTime interface of the two iPhones. Make sure to keep a log of the calls on both phones."
   ]
  },
  {
   "cell_type": "markdown",
   "metadata": {
    "slideshow": {
     "slide_type": "subslide"
    }
   },
   "source": [
    "### Exercise solution below..."
   ]
  },
  {
   "cell_type": "code",
   "execution_count": 8,
   "metadata": {
    "slideshow": {
     "slide_type": "subslide"
    }
   },
   "outputs": [],
   "source": [
    "import time\n",
    "\n",
    "\n",
    "class Phone:\n",
    "    \"\"\" Base class for all types of mobile phones \"\"\"\n",
    "    \n",
    "    def __init__(self, name, screen_size, num_camera=2):\n",
    "        self.name = name\n",
    "        self.screen_size = screen_size\n",
    "        self.num_of_camera = num_camera\n",
    "        self.is_on = True  # power switch\n",
    "        self.photos = []  # list of pictures taken\n",
    "        self.calls = {}  # call log\n",
    "    \n",
    "    def switch_power(self):\n",
    "#         self.is_on = False if self.is_on else True\n",
    "        if self.is_on:\n",
    "            self.is_on = False\n",
    "        else:\n",
    "            self.is_on = True\n",
    "    \n",
    "    def take_photo(self):\n",
    "        \"\"\" Take a photo and append it to the photo album \"\"\"\n",
    "        self.photos.append([[1, 0], [0, 1]])\n",
    "    \n",
    "    def call(self, other):\n",
    "        \"\"\" Call another Phone instance \"\"\"\n",
    "        if self.is_on and other.is_on:\n",
    "            self.calls[other.name] = time.time()\n",
    "            other.calls[self.name] = time.time()\n",
    "        else:\n",
    "            print(f\"Phone {other.name} is off.\")\n",
    "            \n",
    "        return other\n",
    "\n",
    "class IPhone(Phone):\n",
    "    \"\"\" A more expensive phone, that can call other iPhones using a special call method \"\"\"\n",
    "    \n",
    "    def __init__(self, name, screen_size, num_camera, apple_id):\n",
    "        super().__init__(name, screen_size, num_camera)\n",
    "        self.apple_id = apple_id\n",
    "        self.facetime_calls = {}  # FaceTime call log\n",
    "    \n",
    "    def call(self, other):\n",
    "        \"\"\" Overrides the call method from the parent class \"\"\"\n",
    "        if self.is_on and other.is_on:\n",
    "            try:\n",
    "                self.facetime_calls[other.apple_id] = time.time()\n",
    "            except AttributeError:\n",
    "                self.calls[other.name] = time.time()\n",
    "                other.calls[self.name] = time.time()\n",
    "            else:\n",
    "                other.facetime_calls[self.apple_id] = time.time()\n",
    "        else:\n",
    "            print(f\"Phone {other.name} is off.\")\n",
    "        \n",
    "        return other\n",
    "        "
   ]
  },
  {
   "cell_type": "code",
   "execution_count": 9,
   "metadata": {
    "slideshow": {
     "slide_type": "subslide"
    }
   },
   "outputs": [
    {
     "name": "stdout",
     "output_type": "stream",
     "text": [
      "Before calling, the log for regular shows: {}\n",
      "After the call, regular shows {'iphone_8': 1553502976.2035182} and the iPhone shows {'lg_v10': 1553502976.2035196}\n"
     ]
    }
   ],
   "source": [
    "regular = Phone(name='lg_v10', screen_size=6)\n",
    "iphone = IPhone(name='iphone_8', screen_size=5.5, num_camera=3, apple_id='first_iphone_8')\n",
    "iphone2 = IPhone(name='iphone_X', screen_size=6, num_camera=3, apple_id='second_iphone_X')\n",
    "\n",
    "# Call from regular phone to iPhone\n",
    "print(f\"Before calling, the log for regular shows: {regular.calls}\")\n",
    "iphone = regular.call(iphone)\n",
    "print(f\"After the call, regular shows {regular.calls} and the iPhone shows {iphone.calls}\")"
   ]
  },
  {
   "cell_type": "code",
   "execution_count": 10,
   "metadata": {
    "slideshow": {
     "slide_type": "subslide"
    }
   },
   "outputs": [
    {
     "name": "stdout",
     "output_type": "stream",
     "text": [
      "Before calling, the log for first iPhone shows: {}\n",
      "After the call, the first iPhone shows {'second_iphone_X': 1553502976.2201526} and the second shows {'first_iphone_8': 1553502976.2201536}\n"
     ]
    }
   ],
   "source": [
    "# Two iPhones:\n",
    "print(f\"Before calling, the log for first iPhone shows: {iphone.facetime_calls}\")\n",
    "iphone2 = iphone.call(iphone2)\n",
    "print(f\"After the call, the first iPhone shows {iphone.facetime_calls} and the second shows {iphone2.facetime_calls}\")"
   ]
  },
  {
   "cell_type": "markdown",
   "metadata": {
    "slideshow": {
     "slide_type": "subslide"
    }
   },
   "source": [
    "Object-oriented design requires you to think about the code you're about to write - how to model each object, how to deal with the interfaces between them, how to verify the types of each input, etc.\n",
    "\n",
    "Because we're trying to model a complex structures, we usually don't succeed in the first try. That's because we become smarter and understand our needs from the model better __only after we've used it.__ Premeditating and debating on the exact way through which two `Phones()` will call each other is important, but we'll usually just __refactor__ our initial model in favor of a better one after a few days of \"usage\". That's the underlying reason for \"alpha\" and \"beta\" versions of software. \n",
    "\n",
    "In short, rewriting large parts of an application you designed is expected, since it's a natural and important part of software design - a luxury other engineers rarely have."
   ]
  },
  {
   "cell_type": "markdown",
   "metadata": {
    "slideshow": {
     "slide_type": "slide"
    }
   },
   "source": [
    " # Errors and Exceptions"
   ]
  },
  {
   "cell_type": "markdown",
   "metadata": {
    "slideshow": {
     "slide_type": "subslide"
    }
   },
   "source": [
    "A very debated feature of Python (and other scripting languages) is its fear of failing. Python tries to coerce unknown commands into something familiar that it can work with. For example, addition of `bool`s and other types is fully supported, since `bool` types are treated as 0 (for `False`) and 1 (for `True`)."
   ]
  },
  {
   "cell_type": "code",
   "execution_count": 11,
   "metadata": {
    "slideshow": {
     "slide_type": "subslide"
    }
   },
   "outputs": [
    {
     "data": {
      "text/plain": [
       "0.0"
      ]
     },
     "execution_count": 11,
     "metadata": {},
     "output_type": "execute_result"
    }
   ],
   "source": [
    "True - 1.0"
   ]
  },
  {
   "cell_type": "code",
   "execution_count": 12,
   "metadata": {
    "slideshow": {
     "slide_type": "subslide"
    }
   },
   "outputs": [
    {
     "data": {
      "text/plain": [
       "10"
      ]
     },
     "execution_count": 12,
     "metadata": {},
     "output_type": "execute_result"
    }
   ],
   "source": [
    "False + 10"
   ]
  },
  {
   "cell_type": "markdown",
   "metadata": {
    "slideshow": {
     "slide_type": "subslide"
    }
   },
   "source": [
    "However, many other statements will result in an error, or _Exception_ in Python's terms:"
   ]
  },
  {
   "cell_type": "code",
   "execution_count": 13,
   "metadata": {
    "slideshow": {
     "slide_type": "subslide"
    }
   },
   "outputs": [
    {
     "ename": "TypeError",
     "evalue": "can only concatenate str (not \"int\") to str",
     "output_type": "error",
     "traceback": [
      "\u001b[0;31m---------------------------------------------------------------------------\u001b[0m",
      "\u001b[0;31mTypeError\u001b[0m                                 Traceback (most recent call last)",
      "\u001b[0;32m<ipython-input-13-977675d93a78>\u001b[0m in \u001b[0;36m<module>\u001b[0;34m\u001b[0m\n\u001b[0;32m----> 1\u001b[0;31m \u001b[0;34m'3'\u001b[0m \u001b[0;34m+\u001b[0m \u001b[0;36m3\u001b[0m  \u001b[0;31m# TypeError\u001b[0m\u001b[0;34m\u001b[0m\u001b[0;34m\u001b[0m\u001b[0m\n\u001b[0m",
      "\u001b[0;31mTypeError\u001b[0m: can only concatenate str (not \"int\") to str"
     ]
    }
   ],
   "source": [
    "'3' + 3  # TypeError"
   ]
  },
  {
   "cell_type": "code",
   "execution_count": 14,
   "metadata": {
    "slideshow": {
     "slide_type": "subslide"
    }
   },
   "outputs": [
    {
     "ename": "IndexError",
     "evalue": "list index out of range",
     "output_type": "error",
     "traceback": [
      "\u001b[0;31m---------------------------------------------------------------------------\u001b[0m",
      "\u001b[0;31mIndexError\u001b[0m                                Traceback (most recent call last)",
      "\u001b[0;32m<ipython-input-14-4076b5525985>\u001b[0m in \u001b[0;36m<module>\u001b[0;34m\u001b[0m\n\u001b[1;32m      1\u001b[0m \u001b[0ma\u001b[0m \u001b[0;34m=\u001b[0m \u001b[0;34m[\u001b[0m\u001b[0;36m0\u001b[0m\u001b[0;34m,\u001b[0m \u001b[0;36m1\u001b[0m\u001b[0;34m,\u001b[0m \u001b[0;36m2\u001b[0m\u001b[0;34m]\u001b[0m\u001b[0;34m\u001b[0m\u001b[0;34m\u001b[0m\u001b[0m\n\u001b[0;32m----> 2\u001b[0;31m \u001b[0ma\u001b[0m\u001b[0;34m[\u001b[0m\u001b[0;36m3\u001b[0m\u001b[0;34m]\u001b[0m  \u001b[0;31m# IndexError\u001b[0m\u001b[0;34m\u001b[0m\u001b[0;34m\u001b[0m\u001b[0m\n\u001b[0m",
      "\u001b[0;31mIndexError\u001b[0m: list index out of range"
     ]
    }
   ],
   "source": [
    "a = [0, 1, 2]\n",
    "a[3]  # IndexError"
   ]
  },
  {
   "cell_type": "code",
   "execution_count": 15,
   "metadata": {
    "slideshow": {
     "slide_type": "subslide"
    }
   },
   "outputs": [
    {
     "ename": "NameError",
     "evalue": "name 'camel' is not defined",
     "output_type": "error",
     "traceback": [
      "\u001b[0;31m---------------------------------------------------------------------------\u001b[0m",
      "\u001b[0;31mNameError\u001b[0m                                 Traceback (most recent call last)",
      "\u001b[0;32m<ipython-input-15-30dc50b6b31d>\u001b[0m in \u001b[0;36m<module>\u001b[0;34m\u001b[0m\n\u001b[0;32m----> 1\u001b[0;31m \u001b[0mcamel\u001b[0m  \u001b[0;31m# NameError\u001b[0m\u001b[0;34m\u001b[0m\u001b[0;34m\u001b[0m\u001b[0m\n\u001b[0m",
      "\u001b[0;31mNameError\u001b[0m: name 'camel' is not defined"
     ]
    }
   ],
   "source": [
    "camel  # NameError"
   ]
  },
  {
   "cell_type": "markdown",
   "metadata": {
    "slideshow": {
     "slide_type": "subslide"
    }
   },
   "source": [
    "There are many built-in exceptions in Python, and most modules you'll use created their designated exceptions. Modules and packages do this because the exception is _meaningful_ - each exception conveys information about what went wrong during the runtime. Since it's not a simple error, we can use this information by predetermining the course of action when an excpetion occurs. This is called _catching_ an exception."
   ]
  },
  {
   "cell_type": "markdown",
   "metadata": {
    "slideshow": {
     "slide_type": "subslide"
    }
   },
   "source": [
    "The keywords involved are: `try`, `except`, `else` and `finally`. An example might consist of interacting with the file system:\n",
    "\n",
    "```python\n",
    "try:\n",
    "    # Do something that might fail\n",
    "    file.write()\n",
    "except PermissionError:\n",
    "    # If we don't have permission to do the operation (e.g. write to protected disk), do the following\n",
    "    # ...\n",
    "except IsADirectoryError:\n",
    "    # Trying to do a file operation on a directory - so do the following\n",
    "    # ...\n",
    "except (NameError, TypeError):\n",
    "    # If we encouter either a non-existent variable or operation on variables, do the following\n",
    "    # ...\n",
    "except Exception:\n",
    "    # General error, not caught by previous exceptions\n",
    "    # ...\n",
    "else:\n",
    "    # If the operation under \"try\" succeeded, do the following\n",
    "    # ...\n",
    "finally:\n",
    "    # Regardless of the result - success or failure - do this.\n",
    "    # ...\n",
    "```"
   ]
  },
  {
   "cell_type": "markdown",
   "metadata": {
    "slideshow": {
     "slide_type": "subslide"
    }
   },
   "source": [
    "Let's break it down:"
   ]
  },
  {
   "cell_type": "code",
   "execution_count": 17,
   "metadata": {
    "slideshow": {
     "slide_type": "subslide"
    }
   },
   "outputs": [],
   "source": [
    "# Simplest form of exception handling:\n",
    "a = 2\n",
    "try:\n",
    "    b = a + 1\n",
    "except NameError:  # a or b isn't defined\n",
    "    a = 1\n",
    "    b = 2\n",
    "\n",
    "# We could catch other exceptions\n",
    "try:\n",
    "    b = a + 1\n",
    "except TypeError:  # a isn't a float\\int\n",
    "    a = int(a)\n",
    "    b = a + 1\n"
   ]
  },
  {
   "cell_type": "code",
   "execution_count": 66,
   "metadata": {
    "slideshow": {
     "slide_type": "subslide"
    }
   },
   "outputs": [
    {
     "name": "stdout",
     "output_type": "stream",
     "text": [
      "3 remaining key(s) in the dictionary\n",
      "{'John': 'Doe', 'Jane': 'Doe', 'Mike': 'Cohen'}\n"
     ]
    }
   ],
   "source": [
    "# With the else clause\n",
    "current_key = 'Mike'\n",
    "default_val = 'Cohen'\n",
    "dict_1 = {'John': 'Doe', 'Jane': 'Doe'}\n",
    "try:\n",
    "    johns = dict_1.pop(current_key)\n",
    "except KeyError:  # Non-existent key\n",
    "    dict_1[current_key] = default_val\n",
    "    print(f\"{len(dict_1)} remaining key(s) in the dictionary\")\n",
    "else:\n",
    "    print(f\"{len(dict_1)} remaining key(s) in the dictionary\")\n",
    "print(dict_1)"
   ]
  },
  {
   "cell_type": "code",
   "execution_count": 21,
   "metadata": {
    "slideshow": {
     "slide_type": "subslide"
    }
   },
   "outputs": [
    {
     "name": "stdout",
     "output_type": "stream",
     "text": [
      "IndexError\n",
      "Exception: tuple index out of range; tup: (1,)\n"
     ]
    }
   ],
   "source": [
    "# Another else example\n",
    "tup = (1,)\n",
    "try:\n",
    "    a, b = tup[0], tup[1]\n",
    "except IndexError as e:\n",
    "    print(\"IndexError\")\n",
    "    print(f\"Exception: {e}; tup: {tup}\")\n",
    "    raise\n",
    "else:\n",
    "    # process_data(a, b)\n",
    "    print(a, b)"
   ]
  },
  {
   "cell_type": "markdown",
   "metadata": {
    "slideshow": {
     "slide_type": "subslide"
    }
   },
   "source": [
    "We use the `else` clause because we wish to catch a specific `IndexError` during the tuple unpacking (`a, b = tup[0], tup[1]`). The `process_data(a, b)` can raise other `IndexError`s which we'll deal with inside the function. But the relevant `IndexError` to catch is the tuple destructuring one."
   ]
  },
  {
   "cell_type": "code",
   "execution_count": 22,
   "metadata": {
    "slideshow": {
     "slide_type": "subslide"
    }
   },
   "outputs": [],
   "source": [
    "# With the finally clause\n",
    "def divisor(a, b):\n",
    "    \"\"\"\n",
    "    Divides two numbers.\n",
    "    a, b - numbers (int, float)\n",
    "    returns a tuple of the result and a possible error.\n",
    "    \"\"\"\n",
    "    try:\n",
    "        ans = a / b\n",
    "    except ZeroDivisionError as e:\n",
    "        ans = None\n",
    "        err = e\n",
    "    except TypeError as e:\n",
    "        ans = None\n",
    "        err = e\n",
    "    else:\n",
    "        err = None\n",
    "    finally:\n",
    "        return ans, err\n"
   ]
  },
  {
   "cell_type": "code",
   "execution_count": 23,
   "metadata": {
    "slideshow": {
     "slide_type": "subslide"
    }
   },
   "outputs": [
    {
     "name": "stdout",
     "output_type": "stream",
     "text": [
      "0.5  ---- None\n",
      "None ---- division by zero\n",
      "None ---- unsupported operand type(s) for /: 'int' and 'str'\n"
     ]
    }
   ],
   "source": [
    "# Should work:\n",
    "ans, err = divisor(1, 2)\n",
    "print(ans, \" ----\", err)\n",
    "\n",
    "# ZeroDivisionError:\n",
    "ans, err = divisor(1, 0)\n",
    "print(ans, \"----\", err)\n",
    "\n",
    "# TypeError\n",
    "ans, err = divisor(1, 'a')\n",
    "print(ans, \"----\", err)"
   ]
  },
  {
   "cell_type": "markdown",
   "metadata": {
    "slideshow": {
     "slide_type": "subslide"
    }
   },
   "source": [
    "Exception handling is used almost everywhere in the Python world. We always expect our operations to fail, and catch the errors as our backup plan. This is considered more Pythonic than other options. Here's a \"real-world\" example:"
   ]
  },
  {
   "cell_type": "code",
   "execution_count": 24,
   "metadata": {
    "slideshow": {
     "slide_type": "subslide"
    }
   },
   "outputs": [],
   "source": [
    "# Integer conversion. We check before doing it to make sure it won't raise errors\n",
    "def int_conversion(s):\n",
    "    \"\"\" Convert a string to int \"\"\"\n",
    "    if not isinstance(s, str) or not s.isdigit:\n",
    "        return None\n",
    "    elif len(s) > 10:    #too many digits for int conversion\n",
    "        return None\n",
    "    else:\n",
    "        return int(s)"
   ]
  },
  {
   "cell_type": "code",
   "execution_count": 25,
   "metadata": {
    "slideshow": {
     "slide_type": "subslide"
    }
   },
   "outputs": [],
   "source": [
    "# Same purpose - more Pythonic\n",
    "def pythonic_int_conversion(s):\n",
    "    \"\"\" Convert a string to int \"\"\"\n",
    "    try:\n",
    "        return int(s)\n",
    "    except (TypeError, ValueError, OverflowError):\n",
    "        return None\n",
    "# This is also sometimes phrased as \"easier to ask for forgiveness than permission\""
   ]
  },
  {
   "cell_type": "markdown",
   "metadata": {
    "slideshow": {
     "slide_type": "slide"
    }
   },
   "source": [
    "## Exercise - User Input Verification"
   ]
  },
  {
   "cell_type": "markdown",
   "metadata": {
    "slideshow": {
     "slide_type": "subslide"
    }
   },
   "source": [
    "The user's input is always a very error-prone area in an application. A famous joke describes this situation in the following manner: \n",
    "\n",
    "> A Quality Assurance (QA) Engineer walks into a bar. Orders a beer. Orders 0 beers. Orders 999999999 beers. Orders a lizard. Orders -1 beers. Orders a sfdeljknesv.\n",
    "\n",
    "\n",
    "A decent application should not only handle all possible incoming inputs, but should also convey back to the user the information of what went wrong. In this exercise you'll write a `verify_input` function that handles file and folder names."
   ]
  },
  {
   "cell_type": "markdown",
   "metadata": {
    "slideshow": {
     "slide_type": "slide"
    }
   },
   "source": [
    "### Short Intro - `pathlib`"
   ]
  },
  {
   "cell_type": "markdown",
   "metadata": {
    "slideshow": {
     "slide_type": "subslide"
    }
   },
   "source": [
    "For file I/O and other disk operations, some of which are required in this exercise, Pythonistas use `pathlib`, a module in the Python standard library designated to work with files and folders (`pathlib2` in Python 2). Its basic premise is that files and folders are objects themselves, and certain operations are allowed between these objects."
   ]
  },
  {
   "cell_type": "code",
   "execution_count": 26,
   "metadata": {
    "slideshow": {
     "slide_type": "subslide"
    }
   },
   "outputs": [],
   "source": [
    "from pathlib import Path"
   ]
  },
  {
   "cell_type": "code",
   "execution_count": 48,
   "metadata": {
    "slideshow": {
     "slide_type": "subslide"
    }
   },
   "outputs": [],
   "source": [
    "p_win = Path(r'C:\\Users\\Hagai\\Documents\\Classes\\python-course-for-students')  # notice the \"raw\" string r'',\n",
    "# it forces Python to not duplicate backslashes\n",
    "p1 = Path('/home/hagaihargil/Classes/PythonCourseStudents')"
   ]
  },
  {
   "cell_type": "code",
   "execution_count": 49,
   "metadata": {
    "slideshow": {
     "slide_type": "subslide"
    }
   },
   "outputs": [
    {
     "data": {
      "text/plain": [
       "PosixPath('/home/hagaihargil/Classes/PythonCourseStudents')"
      ]
     },
     "execution_count": 49,
     "metadata": {},
     "output_type": "execute_result"
    }
   ],
   "source": [
    "p1"
   ]
  },
  {
   "cell_type": "code",
   "execution_count": 50,
   "metadata": {
    "slideshow": {
     "slide_type": "subslide"
    }
   },
   "outputs": [
    {
     "data": {
      "text/plain": [
       "PosixPath('/home/hagaihargil/Classes')"
      ]
     },
     "execution_count": 50,
     "metadata": {},
     "output_type": "execute_result"
    }
   ],
   "source": [
    "p1.parent"
   ]
  },
  {
   "cell_type": "code",
   "execution_count": 51,
   "metadata": {
    "slideshow": {
     "slide_type": "subslide"
    }
   },
   "outputs": [
    {
     "data": {
      "text/plain": [
       "[PosixPath('/home/hagaihargil/Classes'),\n",
       " PosixPath('/home/hagaihargil'),\n",
       " PosixPath('/home'),\n",
       " PosixPath('/')]"
      ]
     },
     "execution_count": 51,
     "metadata": {},
     "output_type": "execute_result"
    }
   ],
   "source": [
    "list(p1.parents)"
   ]
  },
  {
   "cell_type": "code",
   "execution_count": 52,
   "metadata": {
    "slideshow": {
     "slide_type": "subslide"
    }
   },
   "outputs": [
    {
     "data": {
      "text/plain": [
       "True"
      ]
     },
     "execution_count": 52,
     "metadata": {},
     "output_type": "execute_result"
    }
   ],
   "source": [
    "p1.exists()  # is it actually a folder\\file?"
   ]
  },
  {
   "cell_type": "code",
   "execution_count": 53,
   "metadata": {
    "slideshow": {
     "slide_type": "subslide"
    }
   },
   "outputs": [
    {
     "data": {
      "text/plain": [
       "('/', 'home', 'hagaihargil', 'Classes', 'PythonCourseStudents')"
      ]
     },
     "execution_count": 53,
     "metadata": {},
     "output_type": "execute_result"
    }
   ],
   "source": [
    "p1.parts"
   ]
  },
  {
   "cell_type": "code",
   "execution_count": 54,
   "metadata": {
    "slideshow": {
     "slide_type": "subslide"
    }
   },
   "outputs": [
    {
     "data": {
      "text/plain": [
       "'PythonCourseStudents'"
      ]
     },
     "execution_count": 54,
     "metadata": {},
     "output_type": "execute_result"
    }
   ],
   "source": [
    "p1.name"
   ]
  },
  {
   "cell_type": "code",
   "execution_count": 55,
   "metadata": {
    "slideshow": {
     "slide_type": "subslide"
    }
   },
   "outputs": [
    {
     "name": "stdout",
     "output_type": "stream",
     "text": [
      "/home/hagaihargil/Classes/PythonCourseStudents/resources\n",
      "/home/hagaihargil/Classes/PythonCourseStudents/SubmissionGuidelines.md\n",
      "/home/hagaihargil/Classes/PythonCourseStudents/SetupPython.md\n",
      "/home/hagaihargil/Classes/PythonCourseStudents/.git\n",
      "/home/hagaihargil/Classes/PythonCourseStudents/README.md\n",
      "/home/hagaihargil/Classes/PythonCourseStudents/Resources.md\n",
      "/home/hagaihargil/Classes/PythonCourseStudents/classes\n",
      "/home/hagaihargil/Classes/PythonCourseStudents/Syllabus.md\n",
      "/home/hagaihargil/Classes/PythonCourseStudents/.gitignore\n",
      "/home/hagaihargil/Classes/PythonCourseStudents/assignments\n"
     ]
    }
   ],
   "source": [
    "for file in p1.iterdir():\n",
    "    print(file)"
   ]
  },
  {
   "cell_type": "code",
   "execution_count": 56,
   "metadata": {
    "slideshow": {
     "slide_type": "subslide"
    }
   },
   "outputs": [
    {
     "data": {
      "text/plain": [
       "PosixPath('C:/Users/Hagai/Documents/Classes/python-course-for-students')"
      ]
     },
     "execution_count": 56,
     "metadata": {},
     "output_type": "execute_result"
    }
   ],
   "source": [
    "# Traversing the file system\n",
    "p2 = Path('C:/Users/Hagai/Documents')\n",
    "p2 / 'Classes' / 'python-course-for-students'\n",
    "# Operator overloading"
   ]
  },
  {
   "cell_type": "markdown",
   "metadata": {
    "slideshow": {
     "slide_type": "subslide"
    }
   },
   "source": [
    "#### The exercise:"
   ]
  },
  {
   "cell_type": "code",
   "execution_count": 57,
   "metadata": {
    "slideshow": {
     "slide_type": "subslide"
    }
   },
   "outputs": [],
   "source": [
    "class UserInputVerifier:\n",
    "    \"\"\"\n",
    "    Assert that the input from a user is a valid folder name. A valid folder is a folder\n",
    "    containing the following files: \"a.py\", \"b.py\", \"c.py\", and the data file \"data.txt\". However, the class\n",
    "    should be able to deal with any arbitrary filename, or an iterable of which.\n",
    "    If the given folder doesn't contain it, it's possible the user gave us a parent folder of the \n",
    "    folder that contains these Python files. Look into any sub-folders for these files, and return the\n",
    "    \"actual\" true folder, i.e. the top-most folder containing all the files.\n",
    "    Input - Foldername, string\n",
    "    Output - A pathlib object. If the input isn't valid, i.e. the files weren't found, \n",
    "    the class should raise an exception.\n",
    "    \"\"\""
   ]
  },
  {
   "cell_type": "markdown",
   "metadata": {
    "slideshow": {
     "slide_type": "subslide"
    }
   },
   "source": [
    "### Exercise solution below..."
   ]
  },
  {
   "cell_type": "code",
   "execution_count": 58,
   "metadata": {
    "slideshow": {
     "slide_type": "subslide"
    }
   },
   "outputs": [],
   "source": [
    "class UserInputVerifier:\n",
    "    \"\"\"\n",
    "    Assert that the given foldername contains files in \"filenames\".\n",
    "    \"\"\"\n",
    "    def __init__(self, foldername, filenames=['a.py', 'b.py', 'c.py', 'data.txt']):    \n",
    "        self.raw_folder = Path(str(foldername))  # first possible error\n",
    "        self.filenames = self._verify_filenames(filenames)\n",
    "    \n",
    "    def _verify_filenames(self, filenames):\n",
    "        \"\"\" Verify the input filenames, and return it as an iterable. \"\"\"\n",
    "        \n",
    "        typ = type(filenames)\n",
    "        if typ not in (str, Path, list, tuple, set):\n",
    "            raise TypeError(\"Filenames should be an iterable, a Path object or a string.\")\n",
    "        if typ in (str, Path):\n",
    "            return [filenames]\n",
    "        return filenames\n",
    "        \n",
    "    def check_folder(self):\n",
    "        \"\"\" Assert that the files are indeed in the folder or in one of its subfolders \"\"\"\n",
    "        \n",
    "        existing_files = []\n",
    "        missing_files = []\n",
    "        if not self.raw_folder.exists():\n",
    "            raise UserWarning(f\"Folder {self.raw_folder} doesn't exist.\")\n",
    "            \n",
    "        # Make sure that each file we're looking for doesn't \n",
    "        for file_to_look in self.filenames:\n",
    "            found_files = [str(file) for file in self.raw_folder.rglob(file_to_look)]\n",
    "            if len(found_files) == 0:\n",
    "                raise UserWarning(f\"File '{file_to_look}' was missing from folder '{self.raw_folder}'.\")\n",
    "            if len(found_files) > 1:\n",
    "                raise UserWarning(f\"More than one file named '{file_to_look}' was found in '{self.raw_folder}'.\")\n",
    "        return True"
   ]
  },
  {
   "cell_type": "code",
   "execution_count": 59,
   "metadata": {
    "slideshow": {
     "slide_type": "subslide"
    }
   },
   "outputs": [
    {
     "data": {
      "text/plain": [
       "True"
      ]
     },
     "execution_count": 59,
     "metadata": {},
     "output_type": "execute_result"
    }
   ],
   "source": [
    "foldername = r'./mock'\n",
    "verifier = UserInputVerifier(foldername)\n",
    "verifier.check_folder()"
   ]
  }
 ],
 "metadata": {
  "anaconda-cloud": {},
  "celltoolbar": "Slideshow",
  "kernelspec": {
   "display_name": "Python 3",
   "language": "python",
   "name": "python3"
  },
  "language_info": {
   "codemirror_mode": {
    "name": "ipython",
    "version": 3
   },
   "file_extension": ".py",
   "mimetype": "text/x-python",
   "name": "python",
   "nbconvert_exporter": "python",
   "pygments_lexer": "ipython3",
   "version": "3.7.3"
  }
 },
 "nbformat": 4,
 "nbformat_minor": 2
}
